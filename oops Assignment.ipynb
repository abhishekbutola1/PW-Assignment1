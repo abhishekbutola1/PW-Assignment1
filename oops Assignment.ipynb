{
  "metadata": {
    "kernelspec": {
      "name": "python",
      "display_name": "Python (Pyodide)",
      "language": "python"
    },
    "language_info": {
      "codemirror_mode": {
        "name": "python",
        "version": 3
      },
      "file_extension": ".py",
      "mimetype": "text/x-python",
      "name": "python",
      "nbconvert_exporter": "python",
      "pygments_lexer": "ipython3",
      "version": "3.8"
    }
  },
  "nbformat_minor": 5,
  "nbformat": 4,
  "cells": [
    {
      "id": "c42839cb-83d5-4989-ade8-5472327feecd",
      "cell_type": "code",
      "source": "# 1: What is Object-Oriented Programming (OOP)?\n# Object-Oriented Programming (OOP) is a programming paradigm based on the concept of \"objects,\" \n# which can contain data and code that manipulates that data. OOP organizes software design around data, or \n# objects, rather than functions and logic.",
      "metadata": {
        "trusted": true
      },
      "outputs": [],
      "execution_count": null
    },
    {
      "id": "0ebf6316-37d6-4bfd-b320-624a98f460b8",
      "cell_type": "code",
      "source": "# 2:What is a class in OOP?\n# A class in OOP is a blueprint or prototype for creating objects. It defines a set of attributes \n# (variables) and methods (functions) that are common to all objects of that class.\n\n# For example, a Car class may have attributes like color, model, and methods like start() and stop().\n",
      "metadata": {
        "trusted": true
      },
      "outputs": [],
      "execution_count": null
    },
    {
      "id": "c46569f6-d341-4c56-bc61-a952a36cda2c",
      "cell_type": "code",
      "source": "# 3: What is an object in OOP?\n# An object is an instance of a class. It is a real-world entity that has attributes and methods \n# defined by its class. For example, an object of the Car class could be my_car = Car(\"Tesla\", \"Red\"),\n# where my_car is an instance of the Car class.",
      "metadata": {
        "trusted": true
      },
      "outputs": [],
      "execution_count": null
    },
    {
      "id": "36645027-a757-43d4-8bfc-8fa91871be5a",
      "cell_type": "code",
      "source": "# 4: What is the difference between abstraction and encapsulation?\n# Abstraction: It refers to hiding the complex implementation details and exposing only the essential features of\n# an object. It allows users to interact with an object without needing to know how it works internally.\n\n# Encapsulation: It is the bundling of data (attributes) and methods (functions) into a single unit (class). \n# It also involves restricting access to certain internal details through access modifiers (public, private, protected).",
      "metadata": {
        "trusted": true
      },
      "outputs": [],
      "execution_count": null
    },
    {
      "id": "eead5a01-60de-47fe-baf2-9fa6bc1bddbb",
      "cell_type": "code",
      "source": "# 5:What are dunder methods in Python?\n# Dunder methods, also known as \"magic methods\" or \"special methods,\" are methods in Python that start and end with \n# double underscores (__)\n# example:\n# __init__(self): Constructor\n# __str__(self): String representation\n# __add__(self, other): Addition operation",
      "metadata": {
        "trusted": true
      },
      "outputs": [],
      "execution_count": null
    },
    {
      "id": "dc978639-ecdc-49f5-acfa-8ee39b651951",
      "cell_type": "code",
      "source": "# 6: Explain the concept of inheritance in OOP?\n# Inheritance allows a class (child class) to inherit attributes and methods from another class (parent class). \n# It promotes code reuse and allows the child class to extend or override the functionality of the parent class.",
      "metadata": {
        "trusted": true
      },
      "outputs": [],
      "execution_count": null
    },
    {
      "id": "61aa5578-7d57-405d-8dff-c283dedac6b2",
      "cell_type": "code",
      "source": "# 7. What is polymorphism in OOP?\n# Polymorphism means \"many forms.\" It allows different classes to be treated as instances of the same class through a \n# shared interface. Polymorphism lets you use methods in different classes with the same name, but with different behaviors.",
      "metadata": {
        "trusted": true
      },
      "outputs": [],
      "execution_count": null
    },
    {
      "id": "1e49effa-8860-4391-9163-edc5499e8f4e",
      "cell_type": "code",
      "source": "# 8. How is encapsulation achieved in Python?\n# Encapsulation in Python is achieved by using private variables (prefixing them with __) and methods, and providing \n# public methods (getters and setters) to access or modify these variables. This allows restricting direct access \n# to the internal state of an object.\n\nclass Car:\n    def __init__(self, model):\n        self.__model = model  # private attribute\n\n    def get_model(self):\n        return self.__model  # getter method\n\n    def set_model(self, model):\n        self.__model = model  # setter method",
      "metadata": {
        "trusted": true
      },
      "outputs": [],
      "execution_count": null
    },
    {
      "id": "f1bd7242-7df2-4b7d-a5e0-9482e04df467",
      "cell_type": "code",
      "source": "# 9. What is a constructor in Python?\n# he constructor (__init__) is a special method in Python that is automatically called when a new object is created. \n# It is used to initialize the object's attributes.\n\nclass Person:\n    def __init__(self, name, age):\n        self.name = name\n        self.age = age",
      "metadata": {
        "trusted": true
      },
      "outputs": [],
      "execution_count": null
    },
    {
      "id": "cf6a7e8c-0813-464c-917a-407577bd2766",
      "cell_type": "code",
      "source": "# 10. What are class and static methods in Python?\n# Class Method: A method that is bound to the class and not the instance. It takes cls as the first parameter, \n# which refers to the class itself.\nclass MyClass:\n    @classmethod\n    def class_method(cls):\n        print(\"This is a class method.\")\n\n# Static Method: A method that doesn’t take self or cls as the first parameter. It behaves like a normal function but\n# belongs to the class's namespace.\nclass MyClass:\n    @staticmethod\n    def static_method():\n        print(\"This is a static method.\")\n\n",
      "metadata": {
        "trusted": true
      },
      "outputs": [],
      "execution_count": null
    },
    {
      "id": "4624e661-6ad2-4df1-8aa3-1c84e3786c6f",
      "cell_type": "code",
      "source": "# 11. What is method overloading in Python?\n# Method overloading is the ability to define multiple methods with the same name but with different parameters. \n# In Python, it’s not supported directly. However, we can use default parameters or variable-length arguments \n# (*args, **kwargs) to simulate overloading.",
      "metadata": {
        "trusted": true
      },
      "outputs": [],
      "execution_count": null
    },
    {
      "id": "e0913e44-de7f-4115-bbc3-091c5a9fcbee",
      "cell_type": "code",
      "source": "# 12. What is method overriding in OOP?\n# Method overriding occurs when a subclass provides its own implementation of a method that is already defined \n# in its superclass. This allows the subclass to modify or extend the behavior of the inherited method.\nclass Animal:\n    def speak(self):\n        print(\"Animal makes a sound.\")\n\nclass Dog(Animal):\n    def speak(self):\n        print(\"Dog barks.\")",
      "metadata": {
        "trusted": true
      },
      "outputs": [],
      "execution_count": null
    },
    {
      "id": "365d87ab-49a4-4d23-8f57-b499da148e00",
      "cell_type": "code",
      "source": "# 13. What is a property decorator in Python?\n# The @property decorator in Python allows you to define a method as an attribute. It allows you to define a \n# getter method without needing to call it as a method, making the code cleaner.\n\nclass Circle:\n    def __init__(self, radius):\n        self._radius = radius\n\n    @property\n    def radius(self):\n        return self._radius\na=Circle(2)\nprint(a.radius)\n",
      "metadata": {
        "trusted": true
      },
      "outputs": [],
      "execution_count": null
    },
    {
      "id": "450245f6-efdc-4f3d-aa9d-dda518573f74",
      "cell_type": "code",
      "source": "# 15. What is an abstract class in Python?\n# An abstract class is a class that cannot be instantiated directly and is meant to be subclassed. \n# It defines abstract methods that must be implemented by subclasses.\n\nfrom abc import ABC, abstractmethod\n\nclass Animal(ABC):\n    @abstractmethod\n    def speak(self):\n        pass\n",
      "metadata": {
        "trusted": true
      },
      "outputs": [],
      "execution_count": null
    },
    {
      "id": "051e1bb1-15c3-4ecf-9d82-16fde7d4e189",
      "cell_type": "code",
      "source": "# 16. What are the advantages of OOP?\n# Modularity: The code is organized into objects, making it easier to manage.\n# Reusability: Classes and objects can be reused, reducing code duplication.\n# Maintainability: Changes in the code are easier because the structure is well-organized.\n# Scalability: It allows for more manageable scaling as systems grow.",
      "metadata": {
        "trusted": true
      },
      "outputs": [],
      "execution_count": null
    },
    {
      "id": "b70486c1-08db-41b3-b193-8bba413654e6",
      "cell_type": "code",
      "source": "# 17. What is the difference between a class variable and an instance variable?\n# Class Variable: A variable shared by all instances of a class. It is defined within the class but outside of any methods.\n# Instance Variable: A variable that is unique to each instance of a class. It is typically defined within the __init__ method.",
      "metadata": {
        "trusted": true
      },
      "outputs": [],
      "execution_count": null
    },
    {
      "id": "6f01df7c-2127-4508-b83a-1cf4e859d489",
      "cell_type": "code",
      "source": "# 18. What is multiple inheritance in Python?\n# Multiple inheritance occurs when a class inherits from more than one base class. This allows the \n# subclass to inherit attributes and methods from multiple classes.\nclass A:\n    def method_A(self):\n        print(\"Method A\")\n\nclass B:\n    def method_B(self):\n        print(\"Method B\")\n\nclass C(A, B):\n    pass\n",
      "metadata": {
        "trusted": true
      },
      "outputs": [],
      "execution_count": null
    },
    {
      "id": "6b83f29c-decf-4957-a8d7-e4c09dc5bac8",
      "cell_type": "code",
      "source": "# 20. What is the significance of the super() function in Python?\n# The super() function is used to call a method from the parent class. It’s commonly used in method overriding to call \n# the parent class's method from the child class.\n# we can also use super().__init__() to asses the valiable of parent class",
      "metadata": {
        "trusted": true
      },
      "outputs": [],
      "execution_count": null
    },
    {
      "id": "4e01ca56-70cf-4b52-8437-05a210375855",
      "cell_type": "code",
      "source": "# 21. What is the significance of the __del__ method in Python?\n# The __del__ method is called when an object is about to be destroyed (garbage collected). \n# It allows for cleanup before an object is removed from memory.",
      "metadata": {
        "trusted": true
      },
      "outputs": [],
      "execution_count": null
    },
    {
      "id": "78544dab-586f-4535-bae7-72f612c26069",
      "cell_type": "code",
      "source": "# 22. What is the difference between @staticmethod and @classmethod in Python?\n# @staticmethod: A method that doesn’t need access to the instance or class. It behaves like a regular function \n# but is bound to the class's namespace.\n\n# @classmethod: A method that takes the class itself as its first argument (cls). It can access and modify class-level \n# variables.",
      "metadata": {
        "trusted": true
      },
      "outputs": [],
      "execution_count": null
    },
    {
      "id": "df7b00c9-d974-4c2a-852a-dc22426a9280",
      "cell_type": "code",
      "source": "# 23. How does polymorphism work in Python with inheritance?\n# In Python, polymorphism works by allowing different subclasses to implement methods with the same name but with \n# different behaviors. When a method is called on an object, Python will call the method from the subclass that the object \n# belongs to.",
      "metadata": {
        "trusted": true
      },
      "outputs": [],
      "execution_count": null
    },
    {
      "id": "b7b128e9-e644-48d4-8df0-c325f95fbcfc",
      "cell_type": "code",
      "source": "",
      "metadata": {
        "trusted": true
      },
      "outputs": [],
      "execution_count": null
    },
    {
      "id": "e5979d5f-59b3-4aec-ad82-38e1cb134eed",
      "cell_type": "code",
      "source": "",
      "metadata": {
        "trusted": true
      },
      "outputs": [],
      "execution_count": null
    },
    {
      "id": "37f962a4-ca50-465e-8f91-3b03d2742d37",
      "cell_type": "code",
      "source": "",
      "metadata": {
        "trusted": true
      },
      "outputs": [],
      "execution_count": null
    },
    {
      "id": "c7dfa9dd-e537-436e-b71c-78ebef680e0b",
      "cell_type": "code",
      "source": "# PRACTICAL QUESTIONS",
      "metadata": {
        "trusted": true
      },
      "outputs": [],
      "execution_count": null
    },
    {
      "id": "9e701c78-cf64-43fd-a3f0-1ee399bdfc3f",
      "cell_type": "code",
      "source": "# 1. Create a parent class Animal with a method speak() that prints a generic message. Create a child class Dog\n# that overrides the speak() method to print \"Bark\"\nimport abc\nclass Animal:\n    def speak(self):\n        return \"Some sound\"\n\nclass Dog(Animal):\n    def speak(self):\n        return \"Bark! Bark! Bark!\"\n\ndog = Dog()\nprint(dog.speak())  \n\n\n    ",
      "metadata": {
        "trusted": true
      },
      "outputs": [
        {
          "name": "stdout",
          "output_type": "stream",
          "text": "Bark! Bark! Bark!\n"
        }
      ],
      "execution_count": 9
    },
    {
      "id": "4d6fa311-b466-4396-abfb-6245d64bd442",
      "cell_type": "code",
      "source": "# 2. Write a program to create an abstract class Shape with a method area(). Derive classes Circle and Rectangle\n# from it and implement the area() method in both.\nimport abc\nclass Shape():\n    @abc.abstractmethod\n    def area(self):\n        pass\n\nclass Circle(Shape):\n    def area(self,r):\n        return (22/7)*(r*r)\n\nclass Rectangle(Shape):\n    def area(self,l,b):\n        return l*b\n\ncir=Circle()\ncir.area(2)\n\nrec=Rectangle()\nrec.area(4,2)\n    \n            \n",
      "metadata": {
        "trusted": true
      },
      "outputs": [
        {
          "execution_count": 14,
          "output_type": "execute_result",
          "data": {
            "text/plain": "8"
          },
          "metadata": {}
        }
      ],
      "execution_count": 14
    },
    {
      "id": "f1c171f7-4458-4a7d-bcf2-1d73ac5b220a",
      "cell_type": "code",
      "source": "# 3. Implement a multi-level inheritance scenario where a class Vehicle has an attribute type. Derive a class Car\n# and further derive a class ElectricCar that adds a battery attribute.\n\nimport abc \nclass Vehicle:\n\n    def info(self):\n        return \"This is parent class\"\n\n\nclass Car(Vehicle):\n    def car_info(self):\n        return \" This is child class of Vehical\"\n\nclass ElectricCar(Car):\n    def electric_car_info(self):\n        return \"Inherit the property of both the Car and Vehical\"\n\n\nv=Vehicle()\nv.info()\n\nc=Car()\nc.car_info()\n\ne=ElectricCar()\ne.electric_car_info()",
      "metadata": {
        "trusted": true
      },
      "outputs": [
        {
          "execution_count": 26,
          "output_type": "execute_result",
          "data": {
            "text/plain": "'Inherit the property of both the Car and Vehical'"
          },
          "metadata": {}
        }
      ],
      "execution_count": 26
    },
    {
      "id": "366a84b2-1872-4cd8-92d2-b618eca28f2e",
      "cell_type": "code",
      "source": "# 4. Demonstrate polymorphism by creating a base class Bird with a method fly(). Create two derived classes\n# Sparrow and Penguin that override the fly() method.\n\n# Base class: Bird\nclass Bird:\n    def fly(self):\n        raise \"Most of the bird can fly\"\n\n# Derived class: Sparrow\nclass Sparrow(Bird):\n    def fly(self):\n        return \"Sparrow is flying high in the sky!\"\n\n# Derived class: Penguin\nclass Penguin(Bird):\n    def fly(self):\n        return \"Penguins can't fly, they waddle instead!\"\n\n\n\n# Create instances of each class\nsparrow = Sparrow()\npenguin = Penguin()",
      "metadata": {
        "trusted": true
      },
      "outputs": [],
      "execution_count": 39
    },
    {
      "id": "be140f53-f38e-4342-8ead-82540859b41b",
      "cell_type": "code",
      "source": "penguin.fly()",
      "metadata": {
        "trusted": true
      },
      "outputs": [
        {
          "execution_count": 38,
          "output_type": "execute_result",
          "data": {
            "text/plain": "\"Penguins can't fly, they waddle instead!\""
          },
          "metadata": {}
        }
      ],
      "execution_count": 38
    },
    {
      "id": "86fdf2a8-1f80-453f-a287-b4fb81f3595b",
      "cell_type": "code",
      "source": "sparrow.fly()",
      "metadata": {
        "trusted": true
      },
      "outputs": [
        {
          "execution_count": 37,
          "output_type": "execute_result",
          "data": {
            "text/plain": "'Sparrow is flying high in the sky!'"
          },
          "metadata": {}
        }
      ],
      "execution_count": 37
    },
    {
      "id": "656a3c2a-2f1a-4c45-ac74-321ffda5878b",
      "cell_type": "code",
      "source": "# 5. Write a program to demonstrate encapsulation by creating a class BankAccount with private attributes\n# balance and methods to deposit, withdraw, and check balance.\n\nclass BankAccount:\n    def __init__(self,balance):\n        self.__balance=balance\n\n    def deposit(self,deposit_ammount):\n        self.__balance+=deposit_ammount\n        return self.__balance\n    def withdraw(self,withdraw_amount):\n        self.__balance-=withdraw_amount\n        return self.__balance\n\naccount=BankAccount(1000)\naccount.deposit(500)\naccount.withdraw(100)\n        \n        \n\n",
      "metadata": {
        "trusted": true
      },
      "outputs": [
        {
          "execution_count": 43,
          "output_type": "execute_result",
          "data": {
            "text/plain": "1400"
          },
          "metadata": {}
        }
      ],
      "execution_count": 43
    },
    {
      "id": "426dfc10-8224-4794-8cd6-0a5306724948",
      "cell_type": "code",
      "source": "# 6. Demonstrate runtime polymorphism using a method play() in a base class Instrument. Derive classes Guitar\n# and Piano that implement their own version of play().\n",
      "metadata": {
        "trusted": true
      },
      "outputs": [],
      "execution_count": null
    },
    {
      "id": "4514e31f-7811-4291-8d2d-631fff80bb77",
      "cell_type": "code",
      "source": "",
      "metadata": {
        "trusted": true
      },
      "outputs": [],
      "execution_count": null
    },
    {
      "id": "7df8b060-08b5-47c9-ae7c-628303490300",
      "cell_type": "code",
      "source": "# 7. Create a class MathOperations with a class method add_numbers() to add two numbers and a static\n# method subtract_numbers() to subtract two numbers\n\nclass MathOperations:\n    x=10\n    y=9\n    @classmethod \n    def add_number(cls):\n       \n        return cls.x + cls.y\n    @staticmethod\n    def substract_numbers(x,y):\n        return x-y\n\nopes=MathOperations()\nopes.add_number()\n\n        ",
      "metadata": {
        "trusted": true
      },
      "outputs": [
        {
          "execution_count": 8,
          "output_type": "execute_result",
          "data": {
            "text/plain": "19"
          },
          "metadata": {}
        }
      ],
      "execution_count": 8
    },
    {
      "id": "4543fde2-c380-47ef-80ab-f9b953dfc8bb",
      "cell_type": "code",
      "source": "MathOperations.substract_numbers(100,44)",
      "metadata": {
        "trusted": true
      },
      "outputs": [
        {
          "execution_count": 9,
          "output_type": "execute_result",
          "data": {
            "text/plain": "56"
          },
          "metadata": {}
        }
      ],
      "execution_count": 9
    },
    {
      "id": "f5221612-8479-4deb-a571-bd5d0dcf05a9",
      "cell_type": "code",
      "source": "# 8. Implement a class Person with a class method to count the total number of persons created.\n\nclass Persone:\n    count_persons=0\n    def __init__(self,name):\n        self.name=name\n        Persone.count_persons+=1\n        \n    @classmethod\n    def count(cls):\n        return cls.count_persons\n\np=Persone(\"Abhishek\")\np=Persone(\"Kartik\")\np.count()\n\n        \n        ",
      "metadata": {
        "trusted": true
      },
      "outputs": [
        {
          "execution_count": 19,
          "output_type": "execute_result",
          "data": {
            "text/plain": "2"
          },
          "metadata": {}
        }
      ],
      "execution_count": 19
    },
    {
      "id": "45d3a320-ab37-4088-8ef8-c643f42f794c",
      "cell_type": "code",
      "source": "# 9. Write a class Fraction with attributes numerator and denominator. Override the str method to display the\n# fraction as \"numerator/denominator\"\n\nclass Fraction:\n    def __init__(self,numerator,denominator):\n        self.numerator=numerator\n        self.denominator=denominator\n    def __str__(self):\n        return f\"{self.numerator/self.denominator}\"\n\n\nfr=Fraction(10,5)\nprint(fr)\n    ",
      "metadata": {
        "trusted": true
      },
      "outputs": [
        {
          "name": "stdout",
          "output_type": "stream",
          "text": "2.0\n"
        }
      ],
      "execution_count": 21
    },
    {
      "id": "607b9c10-9b4f-43c3-8d9f-87b95a66a5ab",
      "cell_type": "code",
      "source": "# 10. Demonstrate operator overloading by creating a class Vector and overriding the add method to add two\n# vectors.\n\nclass Vector:\n    def __init__(self,x,y):\n        self.x=x\n        self.y=y\n    def __add__(self):\n        self.x=x\n        self.y=y\n\n    def __add__(self,other):\n        return (self.x+other.x, self.y+other.y)\n\nvector1=Vector(2,4)\nvector2=Vector(5,7)\nresult=vector1+vector2\nprint(result)\n",
      "metadata": {
        "trusted": true
      },
      "outputs": [
        {
          "name": "stdout",
          "output_type": "stream",
          "text": "(7, 11)\n"
        }
      ],
      "execution_count": 23
    },
    {
      "id": "5b2dec86-fd62-4ae4-84b4-3710373abedd",
      "cell_type": "code",
      "source": "# 11. Create a class Person with attributes name and age. Add a method greet() that prints \"Hello, my name is\n# {name} and I am {age} years old.\n\nclass Persone:\n    def __init__(self,name,age):\n        self.name=name\n        self.age=age\n    def greet(self):\n        return f\"Hello, my name is {self.name} and I am {self.age} year old\"\n\npersone=Persone(\"Abhishek\",22)\npersone.greet()\n",
      "metadata": {
        "trusted": true
      },
      "outputs": [
        {
          "execution_count": 25,
          "output_type": "execute_result",
          "data": {
            "text/plain": "'Hello, my name is Abhishek and I am 22 year old'"
          },
          "metadata": {}
        }
      ],
      "execution_count": 25
    },
    {
      "id": "5b434852-51c0-4ce6-a0fe-afc1556ae9d8",
      "cell_type": "code",
      "source": "# 12. Implement a class Student with attributes name and grades. Create a method average_grade() to compute\n# the average of the grades.?\n\nclass Student:\n    def __init__(self,name,grades):\n        self.name=name\n        self.grades=grades\n\n    def average_grade(self):\n        sum=0\n        for i in self.grades:\n            sum+=i\n        return f\"Average of grades:{sum/len(self.grades)}\"\n\nstudent=Student(\"abhsiehk\",[88,90,99,84])\nstudent.average_grade()",
      "metadata": {
        "trusted": true
      },
      "outputs": [
        {
          "execution_count": 40,
          "output_type": "execute_result",
          "data": {
            "text/plain": "'Average of grades:90.25'"
          },
          "metadata": {}
        }
      ],
      "execution_count": 40
    },
    {
      "id": "b4e84b50-1b14-4b72-899c-8636f1200d3d",
      "cell_type": "code",
      "source": "# 13. Create a class Rectangle with methods set_dimensions() to set the dimensions and area() to calculate the\n# area.\n\nclass Rectangle:\n    l=0\n    b=0\n    def set_dimensions(self,l,b):\n        Rectangle.l+=l\n        Rectangle.b+=b\n       \n    \n\n    def area(self):\n        return f'Area of the rectangle is: {Rectangle.l*Rectangle.b}'\n\nrectangle=Rectangle()\nrectangle.set_dimensions(5,2)\nrectangle.area()\n        ",
      "metadata": {
        "trusted": true
      },
      "outputs": [
        {
          "execution_count": 57,
          "output_type": "execute_result",
          "data": {
            "text/plain": "'Area of the rectangle is: 10'"
          },
          "metadata": {}
        }
      ],
      "execution_count": 57
    },
    {
      "id": "1486c965-48de-4cdb-9296-0e7f2654e7c0",
      "cell_type": "code",
      "source": "# 14. Create a class Employee with a method calculate_salary() that computes the salary based on hours worked\n# and hourly rate. Create a derived class Manager that adds a bonus to the salary.\n\nclass Employee:\n    def __init__(self,hours_worked,hourly_rate):\n        self.hours_worked=hours_worked\n        self.hourly_rate=hourly_rate\n\n    def calculate_salary(self):\n        return f\"Salary of the Employe is :{self.hours_worked*self.hourly_rate}\"\n\nclass Manager(Employee):\n    def calculate_salary_with_bonus(self):\n        # 10% bonus\n        total_salary=(self.hours_worked*self.hourly_rate)*(10/100)\n        return f\"Salary after adding bonus:{total_salary+(self.hours_worked*self.hourly_rate)}\"\n\nsalary=Manager(8,2000)\nsalary.calculate_salary()\n",
      "metadata": {
        "trusted": true
      },
      "outputs": [
        {
          "execution_count": 64,
          "output_type": "execute_result",
          "data": {
            "text/plain": "'Salary of the Employe is :16000'"
          },
          "metadata": {}
        }
      ],
      "execution_count": 64
    },
    {
      "id": "7e7bacd0-9892-41b7-8bbd-82a32aafdde4",
      "cell_type": "code",
      "source": "salary=Manager(8,2000)\nsalary.calculate_salary_with_bonus()",
      "metadata": {
        "trusted": true
      },
      "outputs": [
        {
          "execution_count": 69,
          "output_type": "execute_result",
          "data": {
            "text/plain": "'Salary after adding bonus:17600.0'"
          },
          "metadata": {}
        }
      ],
      "execution_count": 69
    },
    {
      "id": "5daa2b88-720c-4f0e-a225-3d0373ab2fdf",
      "cell_type": "code",
      "source": "# 15. Create a class Product with attributes name, price, and quantity. Implement a method total_price() that\n# calculates the total price of the product.\n\nclass Product:\n    def __init__(self,name,price,quantity):\n        self.name=name\n        self.price=price\n        self.quantity=quantity\n\n    def total_price(self):\n        return f\"Price of {self.quantity} {self.name} is {self.quantity*self.price}\"\n\nproduct=Product(\"PS5\",40000,2)\nproduct.total_price()",
      "metadata": {
        "trusted": true
      },
      "outputs": [
        {
          "execution_count": 70,
          "output_type": "execute_result",
          "data": {
            "text/plain": "'Price of 2 PS5 is 80000'"
          },
          "metadata": {}
        }
      ],
      "execution_count": 70
    },
    {
      "id": "361f0590-bf57-4d02-bb7a-934e108e1b6d",
      "cell_type": "code",
      "source": "# 16. Create a class Animal with an abstract method sound(). Create two derived classes Cow and Sheep that\n# implement the sound() method.\nimport abc\nclass Animal:\n    @abc.abstractmethod\n    def sound(self):\n        pass\n\nclass Cow(Animal):\n    def sound(self):\n        return \"Moo-oo! Moo-oo!\"\nclass Sheep(Animal):\n    def sound(self):\n        return \"Baaa! Baaa! Baaa!\"\n\ncow=Cow()\ncow.sound()",
      "metadata": {
        "trusted": true
      },
      "outputs": [
        {
          "execution_count": 72,
          "output_type": "execute_result",
          "data": {
            "text/plain": "'Moo-oo! Moo-oo!'"
          },
          "metadata": {}
        }
      ],
      "execution_count": 72
    },
    {
      "id": "98b314cf-e317-4a21-8c41-cb5ed424b7ab",
      "cell_type": "code",
      "source": "sheep=Sheep()\nsheep.sound()",
      "metadata": {
        "trusted": true
      },
      "outputs": [
        {
          "execution_count": 73,
          "output_type": "execute_result",
          "data": {
            "text/plain": "'Baaa! Baaa! Baaa!'"
          },
          "metadata": {}
        }
      ],
      "execution_count": 73
    },
    {
      "id": "24155f5d-c4de-4aed-8477-8cc8b2d46d04",
      "cell_type": "code",
      "source": "# 17. Create a class Book with attributes title, author, and year_published. Add a method get_book_info() that\n# returns a formatted string with the book's details.\n\nclass Book:\n    def __init__(self,title,author,year_published):\n        self.title=title\n        self.author=author\n        self.year_published=year_published\n\n    def get_book_info(self):\n        return f\"{self.title}, Pulished in {self.year_published} by {self.author} \"\n\nbook=Book(\"The Psychology of Money\",2020,\"Morgan Housel\")\nbook.get_book_info()",
      "metadata": {
        "trusted": true
      },
      "outputs": [
        {
          "execution_count": 76,
          "output_type": "execute_result",
          "data": {
            "text/plain": "'The Psychology of Money, Pulished in Morgan Housel by 2020 '"
          },
          "metadata": {}
        }
      ],
      "execution_count": 76
    },
    {
      "id": "c6df5aab-8541-4ed6-b25a-c42e05c9dc4f",
      "cell_type": "code",
      "source": "# 18. Create a class House with attributes address and price. Create a derived class Mansion that adds an\n# attribute number_of_rooms\n\nclass House:\n    def __init__(self,address,price):\n        self.address=address\n        self.price=price\n    def info(self):\n        return f\"{self.address} Price {self.price}\"\nclass Mansion(House):\n    def __init__(self,address,price,number_of_rooms):\n        super().__init__(address,price)\n      \n        self.number_of_rooms=number_of_rooms\n    def info(self):\n        return f\"Location:{self.address} with {self.number_of_rooms} rooms and Price:{self.price}\"\n        \nmansion=Mansion(\"Dwarka\",2400000,4)\nmansion.info()",
      "metadata": {
        "trusted": true
      },
      "outputs": [
        {
          "execution_count": 93,
          "output_type": "execute_result",
          "data": {
            "text/plain": "'Location:Dwarka with 4 rooms and Price:2400000'"
          },
          "metadata": {}
        }
      ],
      "execution_count": 93
    },
    {
      "id": "2972fcd4-2864-45a1-9271-6a0cab06656d",
      "cell_type": "code",
      "source": "",
      "metadata": {
        "trusted": true
      },
      "outputs": [],
      "execution_count": null
    }
  ]
}