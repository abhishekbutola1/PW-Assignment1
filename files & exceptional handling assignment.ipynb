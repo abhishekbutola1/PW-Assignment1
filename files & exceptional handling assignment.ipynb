{
  "metadata": {
    "kernelspec": {
      "name": "python",
      "display_name": "Python (Pyodide)",
      "language": "python"
    },
    "language_info": {
      "codemirror_mode": {
        "name": "python",
        "version": 3
      },
      "file_extension": ".py",
      "mimetype": "text/x-python",
      "name": "python",
      "nbconvert_exporter": "python",
      "pygments_lexer": "ipython3",
      "version": "3.8"
    }
  },
  "nbformat_minor": 5,
  "nbformat": 4,
  "cells": [
    {
      "id": "9a093ad7-cb9b-4220-b801-da44a472efb0",
      "cell_type": "code",
      "source": "# 1. Difference between interpreted and compiled languages:\n# Interpreted Languages: These languages are executed line-by-line by an interpreter. The code is not converted to machine code directly; instead, the interpreter reads and executes the high-level code. Examples include Python, JavaScript, and Ruby.\n# Compiled Languages: These languages are first translated entirely into machine code by a compiler before execution. The output is a standalone executable file. Examples include C, C++, and Go.",
      "metadata": {
        "trusted": true
      },
      "outputs": [],
      "execution_count": null
    },
    {
      "id": "6d27f849-73fa-4c2a-a0c5-4e26dc70f8ca",
      "cell_type": "code",
      "source": "# 2. What is exception handling in Python?\n# Exception handling in Python is a mechanism to handle runtime errors, allowing the program to continue executing or \n# fail gracefully. It uses try, except, else, and finally blocks to catch and respond to exceptions.",
      "metadata": {
        "trusted": true
      },
      "outputs": [],
      "execution_count": null
    },
    {
      "id": "f9b811d0-32e9-4baa-9777-5dacf48ba2a6",
      "cell_type": "code",
      "source": "# 3. What is the purpose of the finally block in exception handling?\n# The finally block is always executed, regardless of whether an exception occurred or not. It is \n# typically used for cleanup actions, such as closing files or releasing resources, to ensure they occur even if\n# an exception is raised.",
      "metadata": {
        "trusted": true
      },
      "outputs": [],
      "execution_count": null
    },
    {
      "id": "26e5b9df-bcdd-47a0-81e0-90f37282db7f",
      "cell_type": "code",
      "source": "# 4. What is logging in Python?\n# Logging in Python is a mechanism to track and record events during program execution, useful for \n# debugging and tracking the flow of a program. The logging module provides functions for creating logs at \n# different severity levels (e.g., DEBUG, INFO, ERROR).",
      "metadata": {
        "trusted": true
      },
      "outputs": [],
      "execution_count": null
    },
    {
      "id": "a6e61882-6f75-4748-a530-216815d76831",
      "cell_type": "code",
      "source": "# 5. What is the significance of the __del__ method in Python?\n# The __del__ method is a destructor in Python. It is called when an object is about to be destroyed or garbage collected. \n# It allows you to clean up resources like closing files or network connections before an object is removed.",
      "metadata": {
        "trusted": true
      },
      "outputs": [],
      "execution_count": null
    },
    {
      "id": "397bf3e7-22e8-4523-8753-25a9194f58bb",
      "cell_type": "code",
      "source": "# 6. What is the difference between import and from ... import in Python?\n# import module: Imports the entire module, and you access its functions and classes with module.name.\n# from module import name: Imports specific functions or classes from a module, allowing you to use them directly without the module prefix.",
      "metadata": {
        "trusted": true
      },
      "outputs": [],
      "execution_count": null
    },
    {
      "id": "9d0d5ec5-ca30-4e11-b526-74b9da6d4207",
      "cell_type": "code",
      "source": "# 7. How can you handle multiple exceptions in Python?\n# Multiple exceptions can be handled using multiple except blocks or a single except block that catches multiple exception \n# types, e.g.:\ntry:\n    # Code that might raise exceptions\nexcept (TypeError, ValueError) as e:\n    # Handle exceptions\n",
      "metadata": {
        "trusted": true
      },
      "outputs": [],
      "execution_count": null
    },
    {
      "id": "34a05df8-7514-469f-ab0e-30c7c243248a",
      "cell_type": "code",
      "source": "# 8. What is the purpose of the with statement when handling files in Python?\n# The with statement simplifies file handling by automatically closing the file after the block of code is executed, even \n# if an exception occurs. This ensures that resources are properly released without needing an explicit file.close() call.",
      "metadata": {
        "trusted": true
      },
      "outputs": [],
      "execution_count": null
    },
    {
      "id": "4159c712-1a5f-43b8-b5b7-4ded21b6f006",
      "cell_type": "code",
      "source": "# 9. Difference between multithreading and multiprocessing:\n# Multithreading: Runs multiple threads (smaller tasks) within a single process. It's useful for tasks that are I/O bound \n# (e.g., file operations, network requests), but since all threads share the same memory, it’s limited by the Global \n# Interpreter Lock (GIL) in Python.\n# Multiprocessing: Runs multiple processes, each with its own memory space. It's better suited for CPU-bound tasks because\n# each process runs independently, bypassing the GIL.",
      "metadata": {
        "trusted": true
      },
      "outputs": [],
      "execution_count": null
    },
    {
      "id": "1957245c-aaa6-4b4d-b746-5bfec500899d",
      "cell_type": "code",
      "source": "# 10. Advantages of using logging in a program:\n# Logging allows you to track events, errors, and application flow, making it easier to debug and maintain. \n# It also helps in performance monitoring, error detection, and auditing without needing to use print statements.",
      "metadata": {
        "trusted": true
      },
      "outputs": [],
      "execution_count": null
    },
    {
      "id": "bb0129e8-69f5-4f14-90c9-297043509cba",
      "cell_type": "code",
      "source": "# 11. What is memory management in Python?\n# Python uses automatic memory management, including garbage collection to reclaim memory from unused objects. \n# The gc (garbage collector) module helps with memory management by identifying and freeing up objects that are no longer in use.",
      "metadata": {
        "trusted": true
      },
      "outputs": [],
      "execution_count": null
    },
    {
      "id": "ef298c7b-4d64-42e3-8ed4-e0144a52c42f",
      "cell_type": "code",
      "source": "# 12. Basic steps in exception handling in Python:\n# Use try to wrap the code that may raise an exception.\n# Use except to define how to handle specific exceptions.\n# Optionally, use else to execute code if no exceptions are raised.\n# Use finally to execute cleanup code, regardless of whether an exception was raised.",
      "metadata": {
        "trusted": true
      },
      "outputs": [],
      "execution_count": null
    },
    {
      "id": "ec6fbb45-fcac-4514-b462-8bc763c375d6",
      "cell_type": "code",
      "source": "# 13. Why is memory management important in Python?\n# Efficient memory management ensures the program runs smoothly, preventing memory leaks and excessive memory consumption. \n# Proper garbage collection and resource management lead to better performance and stability.",
      "metadata": {
        "trusted": true
      },
      "outputs": [],
      "execution_count": null
    },
    {
      "id": "427b573a-c31a-478d-b553-514545903864",
      "cell_type": "code",
      "source": "# 14. Role of try and except in exception handling:\n# try: Wraps code that might raise an exception.\n# except: Catches the exception and defines what should happen if it occurs, allowing the program to handle errors gracefully.",
      "metadata": {
        "trusted": true
      },
      "outputs": [],
      "execution_count": null
    },
    {
      "id": "e832818d-7916-44e3-a8f5-fbd6f4d14c9b",
      "cell_type": "code",
      "source": "# 16. Purpose of the else block in exception handling:\n# The else block is executed if no exceptions were raised in the try block. It’s useful for code that should only run \n# if no errors occurred.",
      "metadata": {
        "trusted": true
      },
      "outputs": [],
      "execution_count": null
    },
    {
      "id": "e562bd5e-51c7-4f5e-9abf-4c3396c0ea8a",
      "cell_type": "code",
      "source": "# 17. Common logging levels in Python:\n# DEBUG: Detailed information, typically useful for diagnosing problems.\n# INFO: General information about the program’s execution.\n# WARNING: Indicates a potential issue that doesn’t stop the program.\n# ERROR: Indicates an issue that affects part of the program.\n# CRITICAL: A serious error that may prevent the program from continuing.\n",
      "metadata": {
        "trusted": true
      },
      "outputs": [],
      "execution_count": null
    },
    {
      "id": "74b51b63-f441-45a8-9f3a-b2f68c7e7712",
      "cell_type": "code",
      "source": "# 18. Difference between os.fork() and multiprocessing in Python:\n# os.fork() creates a child process that is a copy of the parent process (only available on Unix-like systems).\n# multiprocessing is a cross-platform module that creates independent processes with their own memory space, better suited for parallel execution and CPU-bound tasks",
      "metadata": {
        "trusted": true
      },
      "outputs": [],
      "execution_count": null
    },
    {
      "id": "a6b81f6d-5f89-4ed1-93dc-15af18230a7f",
      "cell_type": "code",
      "source": "# 19. Importance of closing a file in Python:\n# Closing a file ensures that all changes are saved, resources are released, and the file is properly closed. Not \n# closing files can lead to data loss and memory leaks.",
      "metadata": {
        "trusted": true
      },
      "outputs": [],
      "execution_count": null
    },
    {
      "id": "e063608e-4cd8-4687-9ceb-e3ceb040f7af",
      "cell_type": "code",
      "source": "# 20. Difference between file.read() and file.readline() in Python:\n# file.read(): Reads the entire content of the file as a single string.\n# file.readline(): Reads a single line from the file. Repeated calls will read the next lines.",
      "metadata": {
        "trusted": true
      },
      "outputs": [],
      "execution_count": null
    },
    {
      "id": "643793d6-df74-4ad3-a06a-5b73138814eb",
      "cell_type": "code",
      "source": "# 21. What is the logging module in Python used for?\n# The logging module provides a flexible framework for emitting log messages from your program, allowing you to control \n# the level of detail and direct the logs to various outputs like files or the console.",
      "metadata": {
        "trusted": true
      },
      "outputs": [],
      "execution_count": null
    },
    {
      "id": "2a0ff0fd-81c5-4826-b5c8-6fc7eb1cae57",
      "cell_type": "code",
      "source": "# 22. What is the os module in Python used for in file handling?\n# The os module provides functions for interacting with the operating system, \n# such as creating, deleting, and navigating directories, as well as checking file existence or permissions.",
      "metadata": {
        "trusted": true
      },
      "outputs": [],
      "execution_count": null
    },
    {
      "id": "17cd32f9-5709-41d5-b37d-27c541451a9a",
      "cell_type": "code",
      "source": "# 24. How do you raise an exception manually in Python?\n# You can raise an exception using the raise keyword:\nraise ValueError(\"An error occurred!\")\n\n",
      "metadata": {
        "trusted": true
      },
      "outputs": [],
      "execution_count": null
    },
    {
      "id": "7020c8f6-1286-4312-91ae-ac962fa9a0f1",
      "cell_type": "code",
      "source": "# 25. Why is it important to use multithreading in certain applications?\n# Multithreading allows for concurrent execution of tasks, which is useful in applications that need to perform multiple\n# I/O-bound tasks (e.g., network communication or reading from multiple files) without blocking the main thread.",
      "metadata": {
        "trusted": true
      },
      "outputs": [],
      "execution_count": null
    },
    {
      "id": "0202324e-38c2-48bb-81f5-9d55e8c223c4",
      "cell_type": "code",
      "source": "",
      "metadata": {
        "trusted": true
      },
      "outputs": [],
      "execution_count": null
    },
    {
      "id": "73fd42f6-3358-4630-8114-36d31f403dc7",
      "cell_type": "code",
      "source": "# PRACTICAL",
      "metadata": {
        "trusted": true
      },
      "outputs": [],
      "execution_count": null
    },
    {
      "id": "718a714b-05be-4345-b7dd-715c687583f1",
      "cell_type": "code",
      "source": "#1) How can you open a file for writing in Python and write a string to it?\nf=open('file.txt','w')\nf.write('this is the first line \\n')\nf.write('this is the second line')\nf.close()\n",
      "metadata": {
        "trusted": true
      },
      "outputs": [],
      "execution_count": 9
    },
    {
      "id": "2b88d40e-fdea-41e0-8c7c-b38026862e21",
      "cell_type": "code",
      "source": "#2) Write a Python program to read the contents of a file and print each line?\nf=open('file.txt','r')\nf.read()",
      "metadata": {
        "trusted": true
      },
      "outputs": [
        {
          "execution_count": 1,
          "output_type": "execute_result",
          "data": {
            "text/plain": "'this is the first line \\nthis is the second line'"
          },
          "metadata": {}
        }
      ],
      "execution_count": 1
    },
    {
      "id": "5762505f-7c33-4b15-b3f2-04589858d8c8",
      "cell_type": "code",
      "source": "# 3) How would you handle a case where the file doesn't exist while trying to open it for reading?\ntry:\n    open('pw.txt','r')\n\nexcept Exception as e:\n    print('there is an error while reading the file:',e)\n    ",
      "metadata": {
        "trusted": true
      },
      "outputs": [
        {
          "name": "stdout",
          "output_type": "stream",
          "text": "there is an error while reading the file [Errno 44] No such file or directory: 'pw.txt'\n"
        }
      ],
      "execution_count": 2
    },
    {
      "id": "32a7d21e-f449-492b-8797-92e21f76df65",
      "cell_type": "code",
      "source": "# 4) Write a Python script that reads from one file and writes its content to another file?\nf=open('file1.txt','w')\nf.close()\nimport shutil\nshutil.copyfile('file.txt','file1.txt') # source:file.txt , destination:file1.txt\n",
      "metadata": {
        "trusted": true
      },
      "outputs": [
        {
          "execution_count": 4,
          "output_type": "execute_result",
          "data": {
            "text/plain": "'file1.txt'"
          },
          "metadata": {}
        }
      ],
      "execution_count": 4
    },
    {
      "id": "6b071df8-d0e5-460c-b9c6-fcc04561e635",
      "cell_type": "code",
      "source": "#5) How would you catch and handle division by zero error in Python?\n\ntry:\n    print(5/0)\nexcept Exception as e:\n    print(\"Error Type:\", e)",
      "metadata": {
        "trusted": true
      },
      "outputs": [
        {
          "name": "stdout",
          "output_type": "stream",
          "text": "Error Type: division by zero\n"
        }
      ],
      "execution_count": 6
    },
    {
      "id": "70b1c236-0326-4ed4-af47-5b900777711a",
      "cell_type": "code",
      "source": "# 6) Write a Python program that logs an error message to a log file when a division by zero exception occurs?\nimport logging\ntry:\n    5/0\n\nexcept Exception as e:\n    logging.basicConfig(filename='error.txt',level=logging.INFO)\n    logging.info(e)\n    logging.shutdown()",
      "metadata": {
        "trusted": true
      },
      "outputs": [],
      "execution_count": 5
    },
    {
      "id": "745fec29-f15c-4fd0-900e-b6b44b8477bc",
      "cell_type": "code",
      "source": "# 7) How do you log information at different levels (INFO, ERROR, WARNING) in Python using the logging module\nimport logging\nlogging.basicConfig(filename='error1.txt',level=logging.INFO)\nlogging.info('message')\nlogging.error('message 2')\nlogging.warning('message 4')",
      "metadata": {
        "trusted": true
      },
      "outputs": [],
      "execution_count": 7
    },
    {
      "id": "8dba1637-e220-4f31-8c7c-babffa93931d",
      "cell_type": "code",
      "source": "# 8) Write a program to handle a file opening error using exception handling?\nimport logging\ndef open_file(file_name):\n    try:\n        open('file_name','r')\n    except Exception as e:\n        logging.basicConfig(filename='error2.txt',level=logging.INFO)\n        logging.info(e)\n        logging.shutdown()\n\nopen_file('not_existing.txt')\n\n",
      "metadata": {
        "trusted": true
      },
      "outputs": [],
      "execution_count": 3
    },
    {
      "id": "47e05389-58de-4293-a214-5608557287a9",
      "cell_type": "code",
      "source": "# 9) How can you read a file line by line and store its content in a list in Python?\nf=open('file.txt','r')\nf.readlines()",
      "metadata": {
        "trusted": true
      },
      "outputs": [
        {
          "execution_count": 5,
          "output_type": "execute_result",
          "data": {
            "text/plain": "['this is the first line \\n', 'this is the second line']"
          },
          "metadata": {}
        }
      ],
      "execution_count": 5
    },
    {
      "id": "b6a1266c-fae1-42ba-9714-6f6723f9648d",
      "cell_type": "code",
      "source": "# 10) How can you append data to an existing file in Python?\nf=open('file.txt','a')\nf.write('this is my 4th line')\nf.close()",
      "metadata": {
        "trusted": true
      },
      "outputs": [],
      "execution_count": 7
    },
    {
      "id": "c6148701-24c9-4d95-8845-b1d690963939",
      "cell_type": "code",
      "source": "# 11) Write a Python program that uses a try-except block to handle an error when attempting to access a\n# dictionary key that doesn't exist?\n\ndic = {'a': 24, 'b': 25, 'c': 44}\n\ntry:\n    dic['d']  # Trying to access a non-existent key 'd'\nexcept KeyError as e:\n    print(f\"Error: key{e} does not exist\")\n",
      "metadata": {
        "trusted": true
      },
      "outputs": [
        {
          "name": "stdout",
          "output_type": "stream",
          "text": "Error: key'd' does not exist\n"
        }
      ],
      "execution_count": 24
    },
    {
      "id": "25f4764a-a0bf-4090-9172-3fc8da37cc67",
      "cell_type": "code",
      "source": "# 12) Write a program that demonstrates using multiple except blocks to handle different types of exceptions?\ndef handle_exceptions():\n    try:\n        a=5/0\n        b=5+'abbhi'\n    except ZeroDivisionError as e:\n        print(e)\n    except TypeError as e:\n        print(e)\nhandle_exceptions()",
      "metadata": {
        "trusted": true
      },
      "outputs": [
        {
          "name": "stdout",
          "output_type": "stream",
          "text": "division by zero\n"
        }
      ],
      "execution_count": 32
    },
    {
      "id": "d327ebae-0ea3-4ed4-a0e1-9e9391d61883",
      "cell_type": "code",
      "source": "# 13) How would you check if a file exists before attempting to read it in Python?\nimport os\n\ndef check_file(file_name):\n\n    if os.path.exists(file_name):\n        with open(file_name, 'r') as file:\n            content = file.read()\n            print(content)\n    else:\n        print(f\"The file '{file_name}' does not exist.\")\n\ncheck_file('file4.txt')",
      "metadata": {
        "trusted": true
      },
      "outputs": [
        {
          "name": "stdout",
          "output_type": "stream",
          "text": "The file 'file4.txt' does not exist.\n"
        }
      ],
      "execution_count": 37
    },
    {
      "id": "c844dc5f-851c-4c6d-8cd6-1aa25eb4c4b0",
      "cell_type": "code",
      "source": "# 14) Write a program that uses the logging module to log both informational and error messages?\nimport logging\n\n# Set up basic configuration for logging\nlogging.basicConfig(\n    level=logging.DEBUG,  \n    format='%(asctime)s - %(levelname)s - %(message)s',  filename='error.txt')\n\n# Informational log message\nlogging.info(\"This is an informational message.\")\n\n# Simulating an error by dividing by zero\ntry:\n    result = 10 / 0\nexcept ZeroDivisionError as e:\n    logging.error(f\"Error occurred: {e}\")\n\n# Another informational message\nlogging.info(\"This is another informational message.\")\n\nlogging.shutdown()\n",
      "metadata": {
        "trusted": true
      },
      "outputs": [],
      "execution_count": 3
    },
    {
      "id": "c0e6c3cc-ad9f-4bf4-9417-3286501ddc96",
      "cell_type": "code",
      "source": "# 15) Write a Python program that prints the content of a file and handles the case when the file is empty?\nwith open(\"content.txt\",'w') as f:\n    pass\n\nclass MyCustomError(Exception):\n    def __init__(self,message='Something went worng'):\n        self.message=message\n        super().__init__(self.message)\n\ndef read_file(file_name):\n    try:\n        with open(file_name,'r') as f:\n            content=f.read()\n            if content=='':\n                raise MyCustomError('The file is empty')\n            else:\n                print(content)\n\n    except Exception as e:\n        print(e)\n          \n\n            \n        \n    \n\nread_file('content.txt')\n        ",
      "metadata": {
        "trusted": true
      },
      "outputs": [
        {
          "name": "stdout",
          "output_type": "stream",
          "text": "The file is empty\n"
        }
      ],
      "execution_count": 17
    },
    {
      "id": "a581049c-02f7-44de-a5d6-716c5ae63c7a",
      "cell_type": "code",
      "source": "# 16) Demonstrate how to use memory profiling to check the memory usage of a small program?\n",
      "metadata": {
        "trusted": true
      },
      "outputs": [],
      "execution_count": null
    },
    {
      "id": "b22781b9-f517-491e-b70d-aecdaebc6b9c",
      "cell_type": "code",
      "source": "# 17) Write a Python program to create and write a list of numbers to a file, one number per line?\nwith open('num.txt','w') as f:\n        pass\ndef insert_num(lis):\n    with open('num.txt','a') as f:\n        for i in lis:\n       \n            a=str(i)\n            print(a)\n            content=f.write(f'{a}\\n')\n      \n            \n        \n\ninsert_num([1,4,5,6,7,8,5])\n\n    ",
      "metadata": {
        "trusted": true
      },
      "outputs": [
        {
          "name": "stdout",
          "output_type": "stream",
          "text": "1\n4\n5\n6\n7\n8\n5\n"
        }
      ],
      "execution_count": 39
    },
    {
      "id": "eb8adf28-5c7b-43bb-bec0-c1cf15874d5b",
      "cell_type": "code",
      "source": "# 19) Write a program that handles both IndexError and KeyError using a try-except block?\ndef handle_exceptions():\n    my_list = [1, 2, 3]\n    my_dict = {\"a\": 1, \"b\": 2}\n\n    try:\n        # Trying to access an out-of-bounds index in the list\n        print(my_list[5])\n    except IndexError as e:\n        print(f\"IndexError: {e}\")\n\n    try:\n        # Trying to access a non-existent key in the dictionary\n        print(my_dict[\"c\"])\n    except KeyError as e:\n        print(f\"KeyError: {e}\")\n\nhandle_exceptions()\n\n    ",
      "metadata": {
        "trusted": true
      },
      "outputs": [
        {
          "name": "stdout",
          "output_type": "stream",
          "text": "IndexError: list index out of range\nKeyError: 'c'\n"
        }
      ],
      "execution_count": 40
    },
    {
      "id": "a196e82b-72da-4885-ace8-119273ee69a0",
      "cell_type": "code",
      "source": "# 20) How would you open a file and read its contents using a context manager in Python?\nwith open('file.txt','r') as f:\n    content=f.read()\n    print(content)\n",
      "metadata": {
        "trusted": true
      },
      "outputs": [
        {
          "name": "stdout",
          "output_type": "stream",
          "text": "this is the first line \nthis is the second linethis is my 4th line\n"
        }
      ],
      "execution_count": 47
    },
    {
      "id": "aa2b72b6-7a8c-47b4-94fe-6b6b54eab923",
      "cell_type": "code",
      "source": "# 21) Write a Python program that reads a file and prints the number of occurrences of a specific word?\ndef count_num(file_name,word):\n    f=open(file_name,'r')\n    a=f.readlines()\n    l=[]\n    count=0\n    # print(a)\n    for i in a:\n        b=i.split()\n        for i in b:\n            l.append(i)\n    for i in l:\n        if i==word:\n            count+=1\n    print(f'The word{word} occurs {count} times in the file ')\n       \n            \n        \n        \ncount_num('file1.txt','is')\n    \n   \n",
      "metadata": {
        "trusted": true
      },
      "outputs": [
        {
          "name": "stdout",
          "output_type": "stream",
          "text": "The wordis occurs 2 times in the file \n"
        }
      ],
      "execution_count": 92
    },
    {
      "id": "059144fd-98c0-4912-8d95-83bdcf776d55",
      "cell_type": "code",
      "source": "#22) How can you check if a file is empty before attempting to read its contents?\nimport os\ndef file_size(file_name):\n    if os.path.getsize(file_name)==0:\n        print(f'the {file_name} is empty')\n    else:\n        f=open(file_name,'r')\n        f.read()\n\nfile_size('content.txt')",
      "metadata": {
        "trusted": true
      },
      "outputs": [
        {
          "name": "stdout",
          "output_type": "stream",
          "text": "the content.txt is empty\n"
        }
      ],
      "execution_count": 10
    },
    {
      "id": "22da3bc8-50a8-42e8-a09f-5fd907b59b8d",
      "cell_type": "code",
      "source": "# 23) Write a Python program that writes to a log file when an error occurs during file handling.\n\nimport logging\ndef open_file(file_name):\n    try:\n        with open(file_name,'r') as f:\n            f.read()\n    except Exception as e:\n        logging.basicConfig(filename='hello.txt',level=logging.INFO)\n        logging.info(e)\n        logging.shutdown()\n        \n    \nopen_file('hi.txt')            ",
      "metadata": {
        "trusted": true
      },
      "outputs": [],
      "execution_count": 2
    },
    {
      "id": "85f89608-845f-4dab-8ecc-f5e84a0f44d3",
      "cell_type": "code",
      "source": "",
      "metadata": {
        "trusted": true
      },
      "outputs": [],
      "execution_count": null
    }
  ]
}