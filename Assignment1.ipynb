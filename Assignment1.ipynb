{
  "metadata": {
    "kernelspec": {
      "name": "python",
      "display_name": "Python (Pyodide)",
      "language": "python"
    },
    "language_info": {
      "codemirror_mode": {
        "name": "python",
        "version": 3
      },
      "file_extension": ".py",
      "mimetype": "text/x-python",
      "name": "python",
      "nbconvert_exporter": "python",
      "pygments_lexer": "ipython3",
      "version": "3.8"
    }
  },
  "nbformat_minor": 5,
  "nbformat": 4,
  "cells": [
    {
      "id": "c0efe349-753c-4728-a1d0-b138567c1651",
      "cell_type": "code",
      "source": "\"\"\"\nPython is a high-level, interpreted, general-purpose programming language. python is easy to learn have large standard\nlibrary and also have large community\n\"\"\"",
      "metadata": {
        "trusted": true
      },
      "outputs": [],
      "execution_count": null
    },
    {
      "id": "d54eb8c9-9a61-414d-a4fc-692da9484688",
      "cell_type": "code",
      "source": "\"\"\"\nAn interpreter is a program that executes Python code line by line\n\"\"\"",
      "metadata": {
        "trusted": true
      },
      "outputs": [],
      "execution_count": null
    },
    {
      "id": "fedcab3b-b606-45bf-8ff0-24ca56bbe9c4",
      "cell_type": "code",
      "source": "\"\"\" Keywords are reserved words in Python that have specific meanings and cannot be used as variable names, function names, \nor any other identifier if, else, for, while, def, return, True, False, None, and, or, not, import, from, etc.\"\"\"",
      "metadata": {
        "trusted": true
      },
      "outputs": [],
      "execution_count": null
    },
    {
      "id": "c59c3a80-a355-4c17-b593-61f45d9122d6",
      "cell_type": "code",
      "source": "\"\"\"\nNo, keywords cannot be used as variable names.  If you try to use a keyword as a variable name, \nPython will raise a SyntaxError. \"\"\"",
      "metadata": {
        "trusted": true
      },
      "outputs": [],
      "execution_count": null
    },
    {
      "id": "ce38d16b-e66c-4ff9-ae4d-f0980876c01c",
      "cell_type": "code",
      "source": "\"\"\"\nMutability refers to whether the internal state of an object can be changed after it is created.  Mutable objects can be \nmodified in place, while immutable objects cannot.\n\"\"\"",
      "metadata": {
        "trusted": true
      },
      "outputs": [],
      "execution_count": null
    },
    {
      "id": "556814ef-001d-4f7d-91d9-8a0bdf9810b2",
      "cell_type": "code",
      "source": " ",
      "metadata": {
        "trusted": true
      },
      "outputs": [],
      "execution_count": null
    },
    {
      "id": "8bc64139-1455-4c62-ae75-2c5d868e1bb8",
      "cell_type": "code",
      "source": "\"\"\"\n== (Equality Operator): Checks if the values of two objects are equal.\nis (Identity Operator): Checks if two variables refer to the same object in memory. It compares the memory addresses of the objects.\n\"\"\"",
      "metadata": {
        "trusted": true
      },
      "outputs": [],
      "execution_count": null
    },
    {
      "id": "c9113c11-f09d-43ec-a190-3c6cc8da7989",
      "cell_type": "code",
      "source": "\"\"\"\nand: Returns True if both operands are True.\nor: Returns True if at least one operand is True.\nnot: Returns the opposite boolean value of its operand.\n\"\"\"",
      "metadata": {
        "trusted": true
      },
      "outputs": [],
      "execution_count": null
    },
    {
      "id": "7ecd973b-ca26-40c4-8da9-9ca531d6203d",
      "cell_type": "code",
      "source": "\"\"\"\nType casting is the process of converting a value from one data type to another.  \nFor example, we can convert a string to an integer or a float to an integer.\n\"\"\"",
      "metadata": {
        "trusted": true
      },
      "outputs": [],
      "execution_count": null
    },
    {
      "id": "adebc8f9-5965-43e0-b4eb-4f931b94431d",
      "cell_type": "code",
      "source": "\"\"\"\nImplicit Type Casting (Coercion): Python automatically converts a value from one type to another \nExplicit Type Casting: You explicitly convert a value from one type to another using built-in functions like \nint(), float(), str(), bool(), etc\n\"\"\"",
      "metadata": {
        "trusted": true
      },
      "outputs": [],
      "execution_count": null
    },
    {
      "id": "97215eca-f81a-4594-bf65-54ebd1793dc2",
      "cell_type": "code",
      "source": "\"\"\"\nConditional statements allow us to control the flow of execution of your program based on whether certain conditions are true or false\n\"\"\"",
      "metadata": {
        "trusted": true
      },
      "outputs": [],
      "execution_count": null
    },
    {
      "id": "d8262d79-7b02-4761-894c-6867c8d3cae2",
      "cell_type": "code",
      "source": "\"\"\"\nThe elif (else if) statement is used when you have multiple conditions to check. \n\"\"\"",
      "metadata": {
        "trusted": true
      },
      "outputs": [],
      "execution_count": null
    },
    {
      "id": "b459d2a0-ff68-48d1-8d61-b1fa692dd077",
      "cell_type": "code",
      "source": "\"\"\"\nfor loop: Used for iterating over a sequence (like a list, tuple, string, or range) a specific number of times\nwhile loop: Used for repeating a block of code as long as a certain condition is true.\n\"\"\"",
      "metadata": {
        "trusted": true
      },
      "outputs": [],
      "execution_count": null
    },
    {
      "id": "69e2ccb6-58c2-42e1-a45a-430a1acaf6b6",
      "cell_type": "code",
      "source": "\"\"\"\nA while loop is more suitable when the condition for stopping the loop depends on something that changes during the loop's execution\n\"\"\"",
      "metadata": {
        "trusted": true
      },
      "outputs": [],
      "execution_count": null
    },
    {
      "id": "ff684dce-5f87-4f89-9978-8b89801aa3ff",
      "cell_type": "code",
      "source": "",
      "metadata": {
        "trusted": true
      },
      "outputs": [],
      "execution_count": null
    },
    {
      "id": "e7ce191e-1171-43d3-b71c-c051e19e5afb",
      "cell_type": "code",
      "source": "#PRACTICAL QUESTION",
      "metadata": {
        "trusted": true
      },
      "outputs": [],
      "execution_count": null
    },
    {
      "id": "825ef6b7-639b-42cf-9753-9f6e187bb194",
      "cell_type": "code",
      "source": "print(\"hello world\")",
      "metadata": {
        "trusted": true
      },
      "outputs": [
        {
          "name": "stdout",
          "output_type": "stream",
          "text": "hello world\n"
        }
      ],
      "execution_count": 2
    },
    {
      "id": "2dc236ed-32e9-4abb-9ded-e239a42e2d66",
      "cell_type": "code",
      "source": "print(\"Abhsihek Butola\" \" and Age:21\")",
      "metadata": {
        "trusted": true
      },
      "outputs": [
        {
          "name": "stdout",
          "output_type": "stream",
          "text": "Abhsihek Butola and Age:21\n"
        }
      ],
      "execution_count": 5
    },
    {
      "id": "688a1fd5-541d-4471-b9ad-0f213fecb18c",
      "cell_type": "code",
      "source": "import keyword\nprint(keyword.kwlist)",
      "metadata": {
        "trusted": true
      },
      "outputs": [
        {
          "name": "stdout",
          "output_type": "stream",
          "text": "['False', 'None', 'True', 'and', 'as', 'assert', 'async', 'await', 'break', 'class', 'continue', 'def', 'del', 'elif', 'else', 'except', 'finally', 'for', 'from', 'global', 'if', 'import', 'in', 'is', 'lambda', 'nonlocal', 'not', 'or', 'pass', 'raise', 'return', 'try', 'while', 'with', 'yield']\n"
        }
      ],
      "execution_count": 8
    },
    {
      "id": "91acef46-2124-4d1f-bc01-d23c2d459489",
      "cell_type": "code",
      "source": "import keyword\na=\"for\"\nprint(keyword.iskeyword(a))",
      "metadata": {
        "trusted": true
      },
      "outputs": [
        {
          "name": "stdout",
          "output_type": "stream",
          "text": "True\n"
        }
      ],
      "execution_count": 15
    },
    {
      "id": "21d1fccc-56d5-49b5-9dce-d587c3c2b8d8",
      "cell_type": "code",
      "source": "a=[1,5,5,\"abhi\"] #LIST\na[2]=\"pw\"\nprint(a)\nb=(1,2,4 ,'abhi') #tupple\nb[2]='pw'\nprint(b)\n#the tupple concept not covered ",
      "metadata": {
        "trusted": true
      },
      "outputs": [
        {
          "name": "stdout",
          "output_type": "stream",
          "text": "[1, 5, 'pw', 'abhi']\n"
        },
        {
          "ename": "<class 'TypeError'>",
          "evalue": "'tuple' object does not support item assignment",
          "traceback": [
            "\u001b[0;31m---------------------------------------------------------------------------\u001b[0m",
            "\u001b[0;31mTypeError\u001b[0m                                 Traceback (most recent call last)",
            "Cell \u001b[0;32mIn[19], line 5\u001b[0m\n\u001b[1;32m      3\u001b[0m \u001b[38;5;28mprint\u001b[39m(a)\n\u001b[1;32m      4\u001b[0m b\u001b[38;5;241m=\u001b[39m(\u001b[38;5;241m1\u001b[39m,\u001b[38;5;241m2\u001b[39m,\u001b[38;5;241m4\u001b[39m ,\u001b[38;5;124m'\u001b[39m\u001b[38;5;124mabhi\u001b[39m\u001b[38;5;124m'\u001b[39m)\n\u001b[0;32m----> 5\u001b[0m \u001b[43mb\u001b[49m\u001b[43m[\u001b[49m\u001b[38;5;241;43m2\u001b[39;49m\u001b[43m]\u001b[49m\u001b[38;5;241m=\u001b[39m\u001b[38;5;124m'\u001b[39m\u001b[38;5;124mpw\u001b[39m\u001b[38;5;124m'\u001b[39m\n\u001b[1;32m      6\u001b[0m \u001b[38;5;28mprint\u001b[39m(b)\n\u001b[1;32m      7\u001b[0m \u001b[38;5;66;03m#the tupple concept not covered \u001b[39;00m\n",
            "\u001b[0;31mTypeError\u001b[0m: 'tuple' object does not support item assignment"
          ],
          "output_type": "error"
        }
      ],
      "execution_count": 19
    },
    {
      "id": "7990a9fc-5fdb-4b91-9233-63272cf21245",
      "cell_type": "code",
      "source": " #concept of question no 5,6,7 is same ",
      "metadata": {
        "trusted": true
      },
      "outputs": [],
      "execution_count": null
    },
    {
      "id": "2fd7e0db-c711-44fa-906c-c7b410855d1e",
      "cell_type": "code",
      "source": "a=6\nb=8\nif a>2 and b>2:\n    print ('and will be exicuted when both the condition is ture')\n\na=6\nb=8\nif a>8 or b<9:\n    print (\"Or will be exicuted when any one of the condition is ture\")",
      "metadata": {
        "trusted": true
      },
      "outputs": [
        {
          "name": "stdout",
          "output_type": "stream",
          "text": "and will be exicuted when both the condition is ture\nOr will be exicuted when any one of the condition is ture\n"
        }
      ],
      "execution_count": 23
    },
    {
      "id": "240fe105-4770-48fc-a80f-a1a4dc420b29",
      "cell_type": "code",
      "source": "a=int(input(\"Enter your age\"))\nb=float(input(\"Enter your age\"))\nc=bool(input(\"Enter your age\"))\nprint(a)\nprint(b)\nprint(c)",
      "metadata": {
        "trusted": true
      },
      "outputs": [],
      "execution_count": null
    },
    {
      "id": "ab9c798f-d5d6-4488-b85f-ba267c0fe85c",
      "cell_type": "code",
      "source": "a=\"77\"\nprint(type(a))\na=int(a)\nprint(type(a))",
      "metadata": {
        "trusted": true
      },
      "outputs": [
        {
          "name": "stdout",
          "output_type": "stream",
          "text": "<class 'str'>\n<class 'int'>\n"
        }
      ],
      "execution_count": 38
    },
    {
      "id": "4e8aab76-d0b9-4a9b-8379-434c18074d4b",
      "cell_type": "code",
      "source": "num = float(input(\"Enter a number: \"))\nif num > 0:\n   print(\"Positive number\")\nelif num == 0:\n   print(\"Zero\")\nelse:\n   print(\"Negative number\")\n",
      "metadata": {
        "trusted": true
      },
      "outputs": [],
      "execution_count": null
    },
    {
      "id": "1f8e682a-8c20-41a5-809e-64cf3628a121",
      "cell_type": "code",
      "source": "for i in range(1,11):\n    print(i)",
      "metadata": {
        "trusted": true
      },
      "outputs": [
        {
          "name": "stdout",
          "output_type": "stream",
          "text": "1\n3\n5\n7\n9\n"
        }
      ],
      "execution_count": 43
    },
    {
      "id": "80402d36-83fd-43db-b04d-a8c1477dfaa9",
      "cell_type": "code",
      "source": "d=0\nfor i in range(2,51,2):\n    d=i+d\nprint(d)    ",
      "metadata": {
        "trusted": true
      },
      "outputs": [
        {
          "name": "stdout",
          "output_type": "stream",
          "text": "650\n"
        }
      ],
      "execution_count": 63
    },
    {
      "id": "0d82004c-29f2-4cbe-b4c3-7a0804742b90",
      "cell_type": "code",
      "source": "name =\"Abhishek\"\nfor i in name[::-1]:\n    print(i,end=\" \")",
      "metadata": {
        "trusted": true
      },
      "outputs": [
        {
          "name": "stdout",
          "output_type": "stream",
          "text": "k e h s i h b A "
        }
      ],
      "execution_count": 2
    },
    {
      "id": "9357fb4d-1e93-4903-be2b-22aaaedb176b",
      "cell_type": "code",
      "source": "",
      "metadata": {
        "trusted": true
      },
      "outputs": [],
      "execution_count": null
    }
  ]
}