{
  "metadata": {
    "kernelspec": {
      "name": "python",
      "display_name": "Python (Pyodide)",
      "language": "python"
    },
    "language_info": {
      "codemirror_mode": {
        "name": "python",
        "version": 3
      },
      "file_extension": ".py",
      "mimetype": "text/x-python",
      "name": "python",
      "nbconvert_exporter": "python",
      "pygments_lexer": "ipython3",
      "version": "3.8"
    }
  },
  "nbformat_minor": 5,
  "nbformat": 4,
  "cells": [
    {
      "id": "dd2df0a5-6a40-4bca-90a8-021874a7d7c6",
      "cell_type": "code",
      "source": "'''\nQ1) What are data structures, and why are they important?\nData structures are ways of organizing and storing data in a computer so that it can be accessed and modified efficiently. \nThey are important because they enable efficient data management, retrieval, and manipulation, which are critical for writing optimized and scalable programs.\n'''",
      "metadata": {
        "trusted": true
      },
      "outputs": [],
      "execution_count": null
    },
    {
      "id": "eb5b6340-d7a9-4d6e-954b-a23858c503ae",
      "cell_type": "code",
      "source": "# Q2)Explain the difference between mutable and immutable data types with examples.\n# Mutable data types can be changed after creation. Examples include lists, dictionaries, and sets.\na=[1,2,4,5]\na[1]='abhi'\nprint(a)\n# Immutable data types cannot be changed after creation. Examples include integers, strings, and tuples\nb=(1,2,4,5)\nb[1]='abhi'\nprint(b)",
      "metadata": {
        "trusted": true
      },
      "outputs": [
        {
          "name": "stdout",
          "output_type": "stream",
          "text": "[1, 'abhi', 4, 5]\n"
        },
        {
          "ename": "<class 'TypeError'>",
          "evalue": "'tuple' object does not support item assignment",
          "traceback": [
            "\u001b[0;31m---------------------------------------------------------------------------\u001b[0m",
            "\u001b[0;31mTypeError\u001b[0m                                 Traceback (most recent call last)",
            "Cell \u001b[0;32mIn[1], line 8\u001b[0m\n\u001b[1;32m      6\u001b[0m \u001b[38;5;66;03m# Immutable data types cannot be changed after creation. Examples include integers, strings, and tuples\u001b[39;00m\n\u001b[1;32m      7\u001b[0m b\u001b[38;5;241m=\u001b[39m(\u001b[38;5;241m1\u001b[39m,\u001b[38;5;241m2\u001b[39m,\u001b[38;5;241m4\u001b[39m,\u001b[38;5;241m5\u001b[39m)\n\u001b[0;32m----> 8\u001b[0m \u001b[43mb\u001b[49m\u001b[43m[\u001b[49m\u001b[38;5;241;43m1\u001b[39;49m\u001b[43m]\u001b[49m\u001b[38;5;241m=\u001b[39m\u001b[38;5;124m'\u001b[39m\u001b[38;5;124mabhi\u001b[39m\u001b[38;5;124m'\u001b[39m\n\u001b[1;32m      9\u001b[0m \u001b[38;5;28mprint\u001b[39m(b)\n",
            "\u001b[0;31mTypeError\u001b[0m: 'tuple' object does not support item assignment"
          ],
          "output_type": "error"
        }
      ],
      "execution_count": 1
    },
    {
      "id": "0bcab30a-d664-4019-aeee-d3184325beed",
      "cell_type": "code",
      "source": "# Q3)What are the main differences between lists and tuples in Python?\n# Lists are mutable, while tuples are immutable.\n\n# Lists use square brackets [], while tuples use parentheses ().\n\n# Lists are typically used for collections of items that may change, while tuples are used for fixed collections.",
      "metadata": {
        "trusted": true
      },
      "outputs": [],
      "execution_count": null
    },
    {
      "id": "3ffbeb61-b497-47be-9542-55140396b7b5",
      "cell_type": "code",
      "source": "# Q4) Describe how dictionaries store data.?\n# Dictionaries store data as key-value pairs. Each key is unique and maps to a value, allowing for fast lookups, insertions, and deletions.",
      "metadata": {
        "trusted": true
      },
      "outputs": [],
      "execution_count": null
    },
    {
      "id": "112ce2d1-b9b2-4080-99cc-d6d6032d58fb",
      "cell_type": "code",
      "source": "#Q5) Why might you use a set instead of a list in Python?\n# You might use a set when you need to store unique elements and perform operations like union, intersection, or difference. Sets also provide faster membership tests compared to lists.",
      "metadata": {
        "trusted": true
      },
      "outputs": [],
      "execution_count": null
    },
    {
      "id": "09469a4d-9d3c-4d1a-b8fa-3168df081c36",
      "cell_type": "code",
      "source": "# Q6) What is a string in Python, and how is it different from a list?\n# A string is a sequence of characters and is immutable. A list is a sequence of elements (of any type) and is mutable. For example:\na='hello' #immutable \nb=['h','e','l','l','o'] #mutable",
      "metadata": {
        "trusted": true
      },
      "outputs": [],
      "execution_count": 3
    },
    {
      "id": "2e1c64b2-038f-4d72-8a17-3c7215138145",
      "cell_type": "code",
      "source": "# Q7) How do tuples ensure data integrity in Python?\n# Tuples are immutable, meaning their contents cannot be changed after creation. This ensures that the data remains consistent and unaltered throughout the prograM.",
      "metadata": {
        "trusted": true
      },
      "outputs": [],
      "execution_count": null
    },
    {
      "id": "e30034f6-dc7d-43e3-847a-b7d4a2f14dc1",
      "cell_type": "code",
      "source": "# Q8) What is a hash table, and how does it relate to dictionaries in Python?\nA hash table is a data structure that maps keys to values using a hash function. Python dictionaries are implemented using hash tables, which allows for fast lookups, insertions, and deletions.",
      "metadata": {
        "trusted": true
      },
      "outputs": [],
      "execution_count": null
    },
    {
      "id": "74080c3f-9dff-412d-9b12-1df2e6f1e1c1",
      "cell_type": "code",
      "source": "#  Q9) Can lists contain different data types in Python?\n# Yes, lists in Python can contain elements of different data types. For example:\nA=[1,5,55,'abhi',5.5,True]\nprint(A)",
      "metadata": {
        "trusted": true
      },
      "outputs": [
        {
          "name": "stdout",
          "output_type": "stream",
          "text": "[1, 5, 55, 'abhi', 5.5, True]\n"
        }
      ],
      "execution_count": 6
    },
    {
      "id": "ac4ebe08-a0ab-48d8-8fb3-678bf591993c",
      "cell_type": "code",
      "source": "# Q10) Explain why strings are immutable in Python.?\n# Strings are immutable to ensure security (e.g., preventing unintended changes) and efficiency (e.g., allowing optimizations like string interning).",
      "metadata": {
        "trusted": true
      },
      "outputs": [],
      "execution_count": null
    },
    {
      "id": "ea91158d-1b02-4ba5-9166-d3eceadb05d4",
      "cell_type": "code",
      "source": "# Q11) What advantages do dictionaries offer over lists for certain tasks?",
      "metadata": {
        "trusted": true
      },
      "outputs": [],
      "execution_count": null
    },
    {
      "id": "f2e4623c-5413-43b9-8f38-0fc4796916b6",
      "cell_type": "code",
      "source": "# Q12) How do sets handle duplicate values in Python?\n# Sets automatically remove duplicate values, ensuring that all elements are unique.\na={'a','b','c','b','a','b'}\nprint(a)",
      "metadata": {
        "trusted": true
      },
      "outputs": [
        {
          "name": "stdout",
          "output_type": "stream",
          "text": "{'b', 'c', 'a'}\n"
        }
      ],
      "execution_count": 7
    },
    {
      "id": "ed9a4a30-ad42-4779-9cdd-b943cd8f8449",
      "cell_type": "code",
      "source": "# Q13) Describe a scenario where using a tuple would be preferable over a list.?\n# Use a tuple when you need an immutable collection of items, such as to store employe ID ",
      "metadata": {
        "trusted": true
      },
      "outputs": [],
      "execution_count": null
    },
    {
      "id": "5cb6d0ca-7bc9-40c5-8fec-8ec150d94e33",
      "cell_type": "code",
      "source": "# Q14) How does the “in” keyword work differently for lists and dictionaries?\n# For lists, the in keyword checks for membership in the list.\nA=[1,2,'abhi']\nif 1 in A:\n    print(True)\nelse:\n    print(False)\n# For dictionaries, the in keyword checks for the presence of a key.\nb={'a':1,'b':2}\nif \"a\" in b:\n    print(True)\nelse:\n    print(False)\n",
      "metadata": {
        "trusted": true
      },
      "outputs": [
        {
          "name": "stdout",
          "output_type": "stream",
          "text": "True\nTrue\n"
        }
      ],
      "execution_count": 18
    },
    {
      "id": "db0b3278-c78e-437d-858a-139ad252a6b2",
      "cell_type": "code",
      "source": "# Q15) Can you modify the elements of a tuple? Explain why or why not.\n# No, you cannot modify the elements of a tuple because tuples are immutable. However, you can create a new tuple with modified values.",
      "metadata": {
        "trusted": true
      },
      "outputs": [],
      "execution_count": null
    },
    {
      "id": "b5750150-85ed-40f9-9bda-631708af5bc2",
      "cell_type": "code",
      "source": "# Q16)What is a nested dictionary, and give an example of its use case.\n# A nested dictionary is a dictionary that contains other dictionaries. For example:\nmy_dic={'Abhishek':{'Age':21,'roll no':66},'kartik':{'Age':20,'roll no':16}}\nprint(my_dic)\n# Use case: Storing hierarchical data, such as employee records or organizational structures.",
      "metadata": {
        "trusted": true
      },
      "outputs": [
        {
          "name": "stdout",
          "output_type": "stream",
          "text": "{'Abhishek': {'Age': 21, 'roll no': 66}, 'kartik': {'Age': 20, 'roll no': 16}}\n"
        }
      ],
      "execution_count": 20
    },
    {
      "id": "665d7bb3-b378-4f87-9645-fb30541b911c",
      "cell_type": "code",
      "source": "#Q18) In what situations are lists preferred over dictionaries?\n# Order matters: The sequence of items is important (e.g., a to-do list, a series of events).\n# Simple iteration: You need to go through all items one by one.\n# Small datasets: Performance difference is negligible for small collections.\n# Keys aren't needed: Your data doesn't have unique identifiers.\n# Duplicates are allowed: You need to store the same item multiple times.",
      "metadata": {
        "trusted": true
      },
      "outputs": [],
      "execution_count": null
    },
    {
      "id": "8e4039b5-4d76-4029-9ee4-cce3a3e2303c",
      "cell_type": "code",
      "source": " # Q19) Why are dictionaries considered unordered, and how does that affect data retrieval?\n'''Dictionaries are unordered because they use hash tables for fast lookups, prioritizing speed over element order.  \nThis means you access items by key, not index, and the order of items when iterating is unpredictable and unreliable \neven if it appears to be preserved in some Python versions).  If order matters, use a list.'''",
      "metadata": {
        "trusted": true
      },
      "outputs": [],
      "execution_count": null
    },
    {
      "id": "b32178ac-5589-415a-a237-b166f5cb9d04",
      "cell_type": "code",
      "source": "# Q20)Explain the difference between a list and a dictionary in terms of data retrieval.\n# In a list, data is accessed by index (e.g., my_list[0]),but requires knowing the position.\n\n# In a dictionary, data is accessed by key (e.g., my_dict[\"key\"]), is more flexible for lookups.",
      "metadata": {
        "trusted": true
      },
      "outputs": [],
      "execution_count": null
    },
    {
      "id": "b51054e1-8bb3-4e5a-99a9-e48901334eac",
      "cell_type": "code",
      "source": "\n",
      "metadata": {
        "trusted": true
      },
      "outputs": [],
      "execution_count": null
    },
    {
      "id": "5e733413-5534-4277-967b-ea0ddec18ca1",
      "cell_type": "code",
      "source": "",
      "metadata": {
        "trusted": true
      },
      "outputs": [],
      "execution_count": null
    },
    {
      "id": "e7805ef8-30f6-450b-813e-c1a5e2d6973f",
      "cell_type": "code",
      "source": "# PRACTICAL QUESTION ",
      "metadata": {
        "trusted": true
      },
      "outputs": [],
      "execution_count": null
    },
    {
      "id": "fb5f0bdd-db2b-404c-b8ba-4d68a49a6de8",
      "cell_type": "code",
      "source": "# Q1) Write a code to create a string with your name and print it?\nmy_name='Abhishek'\nprint(my_name)",
      "metadata": {
        "trusted": true
      },
      "outputs": [
        {
          "name": "stdout",
          "output_type": "stream",
          "text": "Abhishek\n"
        }
      ],
      "execution_count": 21
    },
    {
      "id": "38b2bc56-34c1-4793-be37-df5182742f05",
      "cell_type": "code",
      "source": "#Q2) Write a code to find the length of the string \"Hello World\"?\na=\"Hello World\"\nprint(len(a))",
      "metadata": {
        "trusted": true
      },
      "outputs": [
        {
          "name": "stdout",
          "output_type": "stream",
          "text": "11\n"
        }
      ],
      "execution_count": 23
    },
    {
      "id": "78d9d04a-b60f-44c7-8825-528b89f777ba",
      "cell_type": "code",
      "source": "# Q3) Write a code to slice the first 3 characters from the string \"Python Programming\"\na=\"Python Programming\"\nprint(a[0:3])",
      "metadata": {
        "trusted": true
      },
      "outputs": [
        {
          "name": "stdout",
          "output_type": "stream",
          "text": "Pyt\n"
        }
      ],
      "execution_count": 26
    },
    {
      "id": "9774ae93-6e6e-4105-b63b-fa8e926b81b4",
      "cell_type": "code",
      "source": "#Q4) Write a code to convert the string \"hello\" to uppercase?\na=\"hello\"\na=a.upper()\nprint(a)",
      "metadata": {
        "trusted": true
      },
      "outputs": [
        {
          "name": "stdout",
          "output_type": "stream",
          "text": "HELLO\n"
        }
      ],
      "execution_count": 29
    },
    {
      "id": "9cd9a434-8e59-4d95-8e7d-61be5ac13e25",
      "cell_type": "code",
      "source": "#Q5) Write a code to replace the word \"apple\" with \"orange\" in the string \"I like apple\"?\na=\"I like apple\"\nb=a.replace(\"apple\",\"orange\")\nprint(b)\n",
      "metadata": {
        "trusted": true
      },
      "outputs": [
        {
          "name": "stdout",
          "output_type": "stream",
          "text": "I like orange\n"
        }
      ],
      "execution_count": 31
    },
    {
      "id": "6c4852b8-a715-4789-8e8c-5787efb6cafd",
      "cell_type": "code",
      "source": "#Q6) Write a code to create a list with numbers 1 to 5 and print it?\na=[]\nfor i in range(6):\n    a.append(i)\nprint(a)",
      "metadata": {
        "trusted": true
      },
      "outputs": [
        {
          "name": "stdout",
          "output_type": "stream",
          "text": "[0, 1, 2, 3, 4, 5]\n"
        }
      ],
      "execution_count": 32
    },
    {
      "id": "f6b47b91-d4c0-436d-ab1e-71d0487c77b4",
      "cell_type": "code",
      "source": "#Q7) Write a code to append the number 10 to the list [1, 2, 3, 4]?\na=[1, 2, 3, 4]\na.append(10)\nprint(a)",
      "metadata": {
        "trusted": true
      },
      "outputs": [
        {
          "name": "stdout",
          "output_type": "stream",
          "text": "[1, 2, 3, 4, 10]\n"
        }
      ],
      "execution_count": 33
    },
    {
      "id": "3db672c3-9997-47cc-8a79-0a27505ac728",
      "cell_type": "code",
      "source": "#Q8)Write a code to remove the number 3 from the list [1, 2, 3, 4, 5]?\na=[1, 2, 3, 4, 5]\na.remove(3)\nprint(a)",
      "metadata": {
        "trusted": true
      },
      "outputs": [
        {
          "name": "stdout",
          "output_type": "stream",
          "text": "[1, 2, 4, 5]\n"
        }
      ],
      "execution_count": 36
    },
    {
      "id": "7bec44cd-7828-499b-8ab6-0e3a981868d6",
      "cell_type": "code",
      "source": "#Q9) Write a code to access the second element in the list ['a', 'b', 'c', 'd']?\na=['a', 'b', 'c', 'd']\nprint(a[1])",
      "metadata": {
        "trusted": true
      },
      "outputs": [
        {
          "name": "stdout",
          "output_type": "stream",
          "text": "b\n"
        }
      ],
      "execution_count": 37
    },
    {
      "id": "db0cba88-6ca6-4257-8ca3-5b766d731b41",
      "cell_type": "code",
      "source": "#Q10)Write a code to reverse the list [10, 20, 30, 40, 50]?\na=[10, 20, 30, 40, 50]\nprint(a[::-1])",
      "metadata": {
        "trusted": true
      },
      "outputs": [
        {
          "name": "stdout",
          "output_type": "stream",
          "text": "[50, 40, 30, 20, 10]\n"
        }
      ],
      "execution_count": 38
    },
    {
      "id": "f132ba75-a68e-4808-8429-b0fbaf249c15",
      "cell_type": "code",
      "source": " #Q11)Write a code to create a tuple with the elements 100, 200, 300 and print it.\na=(100,200,300)\nprint(a)",
      "metadata": {
        "trusted": true
      },
      "outputs": [
        {
          "name": "stdout",
          "output_type": "stream",
          "text": "(100, 200, 300)\n"
        }
      ],
      "execution_count": 39
    },
    {
      "id": "c71e7741-b88c-492b-be51-956732438bd0",
      "cell_type": "code",
      "source": "#Q12) Write a code to access the second-to-last element of the tuple ('red', 'green', 'blue', 'yellow')\na=('red', 'green', 'blue', 'yellow')\nprint(a[1:])",
      "metadata": {
        "trusted": true
      },
      "outputs": [
        {
          "name": "stdout",
          "output_type": "stream",
          "text": "('green', 'blue', 'yellow')\n"
        }
      ],
      "execution_count": 40
    },
    {
      "id": "cfb8d1c3-6201-49fe-bb1e-be9012ebd20d",
      "cell_type": "code",
      "source": "# Q13)Write a code to find the minimum number in the tuple (10, 20, 5, 15)?\na=(10, 20, 5, 15)\nprint(min(a))\n",
      "metadata": {
        "trusted": true
      },
      "outputs": [
        {
          "name": "stdout",
          "output_type": "stream",
          "text": "5\n"
        }
      ],
      "execution_count": 42
    },
    {
      "id": "ad5ffa7a-9da8-43fd-bb1c-b0900c8b9eb4",
      "cell_type": "code",
      "source": "#Q14) Write a code to find the index of the element \"cat\" in the tuple ('dog', 'cat', 'rabbit')?\na=('dog', 'cat', 'rabbit')\nprint(a.index(\"cat\"))",
      "metadata": {
        "trusted": true
      },
      "outputs": [
        {
          "name": "stdout",
          "output_type": "stream",
          "text": "1\n"
        }
      ],
      "execution_count": 43
    },
    {
      "id": "8da53c61-5110-442e-af46-c7a7b46fbd61",
      "cell_type": "code",
      "source": "# Q15). Write a code to create a tuple containing three different fruits and check if \"kiwi\" is in it\na=('orange','apple','kiwi')\nif \"kiwi\" in a:\n    print(\"Yes\")\nelse:\n    print(\"NOT Present\")",
      "metadata": {
        "trusted": true
      },
      "outputs": [
        {
          "name": "stdout",
          "output_type": "stream",
          "text": "Yes\n"
        }
      ],
      "execution_count": 46
    },
    {
      "id": "62768c1e-7697-418f-9982-e372331a95d0",
      "cell_type": "code",
      "source": "# Q16). Write a code to create a set with the elements 'a', 'b', 'c' and print it.\na={'a','b','c'}\nprint(a)",
      "metadata": {
        "trusted": true
      },
      "outputs": [
        {
          "name": "stdout",
          "output_type": "stream",
          "text": "{'b', 'c', 'a'}\n"
        }
      ],
      "execution_count": 47
    },
    {
      "id": "e668a28f-a2a0-4351-a3ba-9a8f38fec6cf",
      "cell_type": "code",
      "source": "# Q17. Write a code to clear all elements from the set {1, 2, 3, 4, 5}\na={1, 2, 3, 4, 5}\na.clear()\nprint(a)",
      "metadata": {
        "trusted": true
      },
      "outputs": [
        {
          "name": "stdout",
          "output_type": "stream",
          "text": "set()\n"
        }
      ],
      "execution_count": 48
    },
    {
      "id": "5bc4a7c2-3161-443f-af59-ae00d0854b27",
      "cell_type": "code",
      "source": "#Q18) Write a code to remove the element 4 from the set {1, 2, 3, 4}?\na={1, 2, 3, 4}\na.remove(4)\nprint(a)",
      "metadata": {
        "trusted": true
      },
      "outputs": [
        {
          "name": "stdout",
          "output_type": "stream",
          "text": "{1, 2, 3}\n"
        }
      ],
      "execution_count": 49
    },
    {
      "id": "ac4f83f4-c99b-4bf4-aa31-01041c8865d3",
      "cell_type": "code",
      "source": "# Q19. Write a code to find the union of two sets {1, 2, 3} and {3, 4, 5}?\na={1, 2, 3}\nb={3, 4, 5}\nprint(a|b)",
      "metadata": {
        "trusted": true
      },
      "outputs": [
        {
          "name": "stdout",
          "output_type": "stream",
          "text": "{1, 2, 3, 4, 5}\n"
        }
      ],
      "execution_count": 50
    },
    {
      "id": "b2c61710-479a-4122-9449-7c6e5eaee9aa",
      "cell_type": "code",
      "source": "#Q20. Write a code to find the intersection of two sets {1, 2, 3} and {2, 3, 4}.?\na={1, 2, 3}\nb={2, 3, 4}\nprint(a&b)",
      "metadata": {
        "trusted": true
      },
      "outputs": [
        {
          "name": "stdout",
          "output_type": "stream",
          "text": "{2, 3}\n"
        }
      ],
      "execution_count": 51
    },
    {
      "id": "5a346d5c-c8b7-4f4d-a06b-b6323b38d44f",
      "cell_type": "code",
      "source": "# Q21. Write a code to create a dictionary with the keys \"name\", \"age\", and \"city\", and print it.?\na={'name':'Abhishek','age':11,'city':'Delhi'}\nprint(a)",
      "metadata": {
        "trusted": true
      },
      "outputs": [
        {
          "name": "stdout",
          "output_type": "stream",
          "text": "{'name': 'Abhishek', 'age': 11, 'city': 'Delhi'}\n"
        }
      ],
      "execution_count": 52
    },
    {
      "id": "3df47dbc-97ce-41a0-bdec-54282e734351",
      "cell_type": "code",
      "source": "# Q22. Write a code to add a new key-value pair \"country\": \"USA\" to the dictionary {'name': 'John', 'age': 25}?\na={'name': 'John', 'age': 25}\na[\"country\"]=\"USA\"\nprint(a)",
      "metadata": {
        "trusted": true
      },
      "outputs": [
        {
          "name": "stdout",
          "output_type": "stream",
          "text": "{'name': 'John', 'age': 25, 'country': 'USA'}\n"
        }
      ],
      "execution_count": 53
    },
    {
      "id": "3825fe89-8b15-4cbe-8c07-8748e1bcd202",
      "cell_type": "code",
      "source": "# Q23. Write a code to access the value associated with the key \"name\" in the dictionary {'name': 'Alice', 'age': 30}?\na={'name': 'Alice', 'age': 30}\nprint(a['name'])",
      "metadata": {
        "trusted": true
      },
      "outputs": [
        {
          "name": "stdout",
          "output_type": "stream",
          "text": "Alice\n"
        }
      ],
      "execution_count": 54
    },
    {
      "id": "08a3c300-e0ac-425d-9f71-f93a28d0c5c7",
      "cell_type": "code",
      "source": "# Q24. Write a code to remove the key \"age\" from the dictionary {'name': 'Bob', 'age': 22, 'city': 'New York'}.\na={'name': 'Bob', 'age': 22, 'city': 'New York'}\na.pop('age')\nprint(a)",
      "metadata": {
        "trusted": true
      },
      "outputs": [
        {
          "name": "stdout",
          "output_type": "stream",
          "text": "{'name': 'Bob', 'city': 'New York'}\n"
        }
      ],
      "execution_count": 56
    },
    {
      "id": "4e04eecf-8e5b-470d-86f4-ce6303283617",
      "cell_type": "code",
      "source": "# Q25. Write a code to check if the key \"city\" exists in the dictionary {'name': 'Alice', 'city': 'Paris'}.?\na={'name': 'Alice', 'city': 'Paris'}\nif 'city' in a:\n    print(True)\nelse:\n    print(False)\n",
      "metadata": {
        "trusted": true
      },
      "outputs": [
        {
          "name": "stdout",
          "output_type": "stream",
          "text": "True\n"
        }
      ],
      "execution_count": 57
    },
    {
      "id": "b5ef0ac5-9d80-479d-9202-98925e767b98",
      "cell_type": "code",
      "source": "# Q26. Write a code to create a list, a tuple, and a dictionary, and print them all.\na=[1,2,4]\nb=(1,2,4)\nc={1,2,4}\nprint(a,b,c)",
      "metadata": {
        "trusted": true
      },
      "outputs": [
        {
          "name": "stdout",
          "output_type": "stream",
          "text": "[1, 2, 4] (1, 2, 4) {1, 2, 4}\n"
        }
      ],
      "execution_count": 63
    },
    {
      "id": "4313474f-e869-443d-8e52-604c3aeb3d90",
      "cell_type": "code",
      "source": "# Q27. Write a code to create a list of 5 random numbers between 1 and 100, sort it in ascending order, and print the result.(replaced)\nimport random\na=[]\n\nfor i in range(5):\n    a.append(random.randint(1,100))\n    a.sort()\nprint(a)\n    ",
      "metadata": {
        "trusted": true
      },
      "outputs": [
        {
          "name": "stdout",
          "output_type": "stream",
          "text": "[11, 31, 35, 47, 93]\n"
        }
      ],
      "execution_count": 64
    },
    {
      "id": "70165ae6-4dc0-48bb-b234-843904cec2d3",
      "cell_type": "code",
      "source": "# Q29. Write a code to combine two dictionaries into one and print the result.\na={'name':'abhishke'}\nb={'roll no':44}\na.update(b)\nprint(a)\n\n\n\n",
      "metadata": {
        "trusted": true
      },
      "outputs": [
        {
          "name": "stdout",
          "output_type": "stream",
          "text": "{'name': 'abhishke', 'roll no': 44}\n"
        }
      ],
      "execution_count": 71
    },
    {
      "id": "fd2fe3d5-e81d-4bb1-a2f3-9802c8eace24",
      "cell_type": "code",
      "source": "# Q30. Write a code to convert a list of strings into a set.?\na=['h','e','l','l','o']\nb=set(a)\nprint(type(b))\nprint(b)",
      "metadata": {
        "trusted": true
      },
      "outputs": [
        {
          "name": "stdout",
          "output_type": "stream",
          "text": "<class 'set'>\n{'h', 'o', 'l', 'e'}\n"
        }
      ],
      "execution_count": 74
    },
    {
      "id": "59babf3f-1843-47ce-b58d-cef7efed4e0d",
      "cell_type": "code",
      "source": "",
      "metadata": {
        "trusted": true
      },
      "outputs": [],
      "execution_count": null
    }
  ]
}