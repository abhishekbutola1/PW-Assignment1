{
  "metadata": {
    "kernelspec": {
      "name": "python",
      "display_name": "Python (Pyodide)",
      "language": "python"
    },
    "language_info": {
      "codemirror_mode": {
        "name": "python",
        "version": 3
      },
      "file_extension": ".py",
      "mimetype": "text/x-python",
      "name": "python",
      "nbconvert_exporter": "python",
      "pygments_lexer": "ipython3",
      "version": "3.8"
    }
  },
  "nbformat_minor": 5,
  "nbformat": 4,
  "cells": [
    {
      "id": "34a8ea21-2797-45a2-b323-46aa30b648f6",
      "cell_type": "raw",
      "source": "\nQ1) What is Python, and why is it popular?\n\nPython is a high-level, interpreted, general-purpose programming language. python is easy to learn have large standard\nlibrary and also have large community\n",
      "metadata": {}
    },
    {
      "id": "0e515c3c-0300-44d2-a419-9fea143ec9eb",
      "cell_type": "raw",
      "source": "\nQ2) What is an interpreter in Python?\n\nAn interpreter is a program that executes Python code line by line\n",
      "metadata": {}
    },
    {
      "id": "32c95d71-d6a4-42c9-9464-737aef22c94b",
      "cell_type": "raw",
      "source": "Q3)What are pre-defined keywords in Python?\n\nKeywords are reserved words in Python that have specific meanings and cannot be used as variable names, function names, \nor any other identifier if, else, for, while, def, return, True, False, None, and, or, not, import, from, etc",
      "metadata": {}
    },
    {
      "id": "90e788e4-8801-4e65-8dc1-cd8b21dd8dcf",
      "cell_type": "raw",
      "source": "\nQ4) Can keywords be used as variable names?\nNo, keywords cannot be used as variable names.  If you try to use a keyword as a variable name, \nPython will raise a SyntaxError. ",
      "metadata": {}
    },
    {
      "id": "a1919a0e-b41b-4114-bb68-89a494830a1f",
      "cell_type": "raw",
      "source": "\nQ5) What is mutability in Python?\nMutability refers to whether the internal state of an object can be changed after it is created.  Mutable objects can be \nmodified in place, while immutable objects cannot.\n",
      "metadata": {}
    },
    {
      "id": "4b011779-362e-4feb-97e9-82b7ce0efe82",
      "cell_type": "raw",
      "source": " Q6) Why are lists mutable, but tuples are immutable?",
      "metadata": {}
    },
    {
      "id": "50fc7c62-0d3f-44cf-aeab-a88e85b0d560",
      "cell_type": "raw",
      "source": "\nQ7) What is the difference between “==” and “is” operators in Python?\n\n== (Equality Operator): Checks if the values of two objects are equal.\nis (Identity Operator): Checks if two variables refer to the same object in memory. It compares the memory addresses of the objects.\n",
      "metadata": {}
    },
    {
      "id": "0f344036-910c-41b5-a40f-60b6508cb550",
      "cell_type": "raw",
      "source": "\nQ8) What are logical operators in Python?\n\nand: Returns True if both operands are True.\nor: Returns True if at least one operand is True.\nnot: Returns the opposite boolean value of its operand.\n",
      "metadata": {}
    },
    {
      "id": "d15093e4-a8e2-4f62-986e-c1e9a7fc6a4a",
      "cell_type": "raw",
      "source": "\nQ9) What is type casting in Python?\n\nType casting is the process of converting a value from one data type to another.  \nFor example, we can convert a string to an integer or a float to an integer.\n",
      "metadata": {}
    },
    {
      "id": "48ef1308-d7ed-4056-9414-15dd801ccf94",
      "cell_type": "raw",
      "source": "\nQ10) What is the difference between implicit and explicit type casting?\n\nImplicit Type Casting (Coercion): Python automatically converts a value from one type to another \nExplicit Type Casting: You explicitly convert a value from one type to another using built-in functions like \nint(), float(), str(), bool(), etc\n",
      "metadata": {}
    },
    {
      "id": "65b1d546-c64a-4647-894c-793b26f5ce95",
      "cell_type": "raw",
      "source": "\nQ11) What is the purpose of conditional statements in Python?\n\nConditional statements allow us to control the flow of execution of your program based on whether certain conditions are true or false\n",
      "metadata": {}
    },
    {
      "id": "15d57dda-96f6-4df8-9dc3-7c6881a186d6",
      "cell_type": "raw",
      "source": "\nQ12) How does the elif statement work?\n\nThe elif (else if) statement is used when you have multiple conditions to check. \n",
      "metadata": {}
    },
    {
      "id": "2e52ad77-5446-4046-bc8f-768e7060934a",
      "cell_type": "raw",
      "source": "\nQ13) What is the difference between for and while loops?\n\nfor loop: Used for iterating over a sequence (like a list, tuple, string, or range) a specific number of times\nwhile loop: Used for repeating a block of code as long as a certain condition is true.\n",
      "metadata": {}
    },
    {
      "id": "7439c696-9faf-4a68-bc49-849716964a31",
      "cell_type": "raw",
      "source": "\nQ14) Describe a scenario where a while loop is more suitable than a for loop?\n\nA while loop is more suitable when the condition for stopping the loop depends on something that changes during the loop's execution\n",
      "metadata": {}
    },
    {
      "id": "ff684dce-5f87-4f89-9978-8b89801aa3ff",
      "cell_type": "code",
      "source": "",
      "metadata": {
        "trusted": true
      },
      "outputs": [],
      "execution_count": null
    },
    {
      "id": "e7ce191e-1171-43d3-b71c-c051e19e5afb",
      "cell_type": "code",
      "source": "#PRACTICAL QUESTION",
      "metadata": {
        "trusted": true
      },
      "outputs": [],
      "execution_count": null
    },
    {
      "id": "825ef6b7-639b-42cf-9753-9f6e187bb194",
      "cell_type": "code",
      "source": "#Write a Python program to print \"Hello, World!\nprint(\"hello world!\")",
      "metadata": {
        "trusted": true
      },
      "outputs": [
        {
          "name": "stdout",
          "output_type": "stream",
          "text": "hello world!\n"
        }
      ],
      "execution_count": 1
    },
    {
      "id": "2dc236ed-32e9-4abb-9ded-e239a42e2d66",
      "cell_type": "code",
      "source": "#Write a Python program that displays your name and age\nprint(\"Abhsihek Butola\" \" and Age:21\")",
      "metadata": {
        "trusted": true
      },
      "outputs": [
        {
          "name": "stdout",
          "output_type": "stream",
          "text": "Abhsihek Butola and Age:21\n"
        }
      ],
      "execution_count": 5
    },
    {
      "id": "688a1fd5-541d-4471-b9ad-0f213fecb18c",
      "cell_type": "code",
      "source": "#Write code to print all the pre-defined keywords in Python using the keyword library\nimport keyword\nprint(keyword.kwlist)",
      "metadata": {
        "trusted": true
      },
      "outputs": [
        {
          "name": "stdout",
          "output_type": "stream",
          "text": "['False', 'None', 'True', 'and', 'as', 'assert', 'async', 'await', 'break', 'class', 'continue', 'def', 'del', 'elif', 'else', 'except', 'finally', 'for', 'from', 'global', 'if', 'import', 'in', 'is', 'lambda', 'nonlocal', 'not', 'or', 'pass', 'raise', 'return', 'try', 'while', 'with', 'yield']\n"
        }
      ],
      "execution_count": 8
    },
    {
      "id": "91acef46-2124-4d1f-bc01-d23c2d459489",
      "cell_type": "code",
      "source": "#Write a program that checks if a given word is a Python keyword0\nimport keyword\na=\"for\"\nprint(keyword.iskeyword(a))",
      "metadata": {
        "trusted": true
      },
      "outputs": [
        {
          "name": "stdout",
          "output_type": "stream",
          "text": "True\n"
        }
      ],
      "execution_count": 15
    },
    {
      "id": "21d1fccc-56d5-49b5-9dce-d587c3c2b8d8",
      "cell_type": "code",
      "source": "'''Create a list and tuple in Python, and demonstrate how attempting to change an element works differently\nfor each'''\na=[1,5,5,\"abhi\"] #LIST\na[2]=\"pw\"\nprint(a)\nb=(1,2,4 ,'abhi') #tupple\nb[2]='pw'\nprint(b)\n#the tupple concept not covered ",
      "metadata": {
        "trusted": true
      },
      "outputs": [
        {
          "name": "stdout",
          "output_type": "stream",
          "text": "[1, 5, 'pw', 'abhi']\n"
        },
        {
          "ename": "<class 'TypeError'>",
          "evalue": "'tuple' object does not support item assignment",
          "traceback": [
            "\u001b[0;31m---------------------------------------------------------------------------\u001b[0m",
            "\u001b[0;31mTypeError\u001b[0m                                 Traceback (most recent call last)",
            "Cell \u001b[0;32mIn[19], line 5\u001b[0m\n\u001b[1;32m      3\u001b[0m \u001b[38;5;28mprint\u001b[39m(a)\n\u001b[1;32m      4\u001b[0m b\u001b[38;5;241m=\u001b[39m(\u001b[38;5;241m1\u001b[39m,\u001b[38;5;241m2\u001b[39m,\u001b[38;5;241m4\u001b[39m ,\u001b[38;5;124m'\u001b[39m\u001b[38;5;124mabhi\u001b[39m\u001b[38;5;124m'\u001b[39m)\n\u001b[0;32m----> 5\u001b[0m \u001b[43mb\u001b[49m\u001b[43m[\u001b[49m\u001b[38;5;241;43m2\u001b[39;49m\u001b[43m]\u001b[49m\u001b[38;5;241m=\u001b[39m\u001b[38;5;124m'\u001b[39m\u001b[38;5;124mpw\u001b[39m\u001b[38;5;124m'\u001b[39m\n\u001b[1;32m      6\u001b[0m \u001b[38;5;28mprint\u001b[39m(b)\n\u001b[1;32m      7\u001b[0m \u001b[38;5;66;03m#the tupple concept not covered \u001b[39;00m\n",
            "\u001b[0;31mTypeError\u001b[0m: 'tuple' object does not support item assignment"
          ],
          "output_type": "error"
        }
      ],
      "execution_count": 19
    },
    {
      "id": "7990a9fc-5fdb-4b91-9233-63272cf21245",
      "cell_type": "code",
      "source": " #concept of question no 5,6,7 is same ",
      "metadata": {
        "trusted": true
      },
      "outputs": [],
      "execution_count": null
    },
    {
      "id": "2fd7e0db-c711-44fa-906c-c7b410855d1e",
      "cell_type": "code",
      "source": "#Write a program to demonstrate the use of logical operators\na=6\nb=8\nif a>2 and b>2:\n    print ('and will be exicuted when both the condition is ture')\n\na=6\nb=8\nif a>8 or b<9:\n    print (\"Or will be exicuted when any one of the condition is ture\")",
      "metadata": {
        "trusted": true
      },
      "outputs": [
        {
          "name": "stdout",
          "output_type": "stream",
          "text": "and will be exicuted when both the condition is ture\nOr will be exicuted when any one of the condition is ture\n"
        }
      ],
      "execution_count": 23
    },
    {
      "id": "240fe105-4770-48fc-a80f-a1a4dc420b29",
      "cell_type": "code",
      "source": "#Write a Python program to convert user input from string to integer, float, and boolean types\na=int(input(\"Enter your age\"))\nb=float(input(\"Enter your age\"))\nc=bool(input(\"Enter your age\"))\nprint(a)\nprint(b)\nprint(c)",
      "metadata": {
        "trusted": true
      },
      "outputs": [],
      "execution_count": null
    },
    {
      "id": "ab9c798f-d5d6-4488-b85f-ba267c0fe85c",
      "cell_type": "code",
      "source": "#Write code to demonstrate type casting with list elements\na=\"77\"\nprint(type(a))\na=int(a)\nprint(type(a))",
      "metadata": {
        "trusted": true
      },
      "outputs": [
        {
          "name": "stdout",
          "output_type": "stream",
          "text": "<class 'str'>\n<class 'int'>\n"
        }
      ],
      "execution_count": 38
    },
    {
      "id": "4e8aab76-d0b9-4a9b-8379-434c18074d4b",
      "cell_type": "code",
      "source": "#Write a program that checks if a number is positive, negative, or zero\nnum = float(input(\"Enter a number: \"))\nif num > 0:\n   print(\"Positive number\")\nelif num == 0:\n   print(\"Zero\")\nelse:\n   print(\"Negative number\")\n",
      "metadata": {
        "trusted": true
      },
      "outputs": [],
      "execution_count": null
    },
    {
      "id": "1f8e682a-8c20-41a5-809e-64cf3628a121",
      "cell_type": "code",
      "source": "# Write a for loop to print numbers from 1 to 10\nfor i in range(1,11):\n    print(i)",
      "metadata": {
        "trusted": true
      },
      "outputs": [
        {
          "name": "stdout",
          "output_type": "stream",
          "text": "1\n3\n5\n7\n9\n"
        }
      ],
      "execution_count": 43
    },
    {
      "id": "80402d36-83fd-43db-b04d-a8c1477dfaa9",
      "cell_type": "code",
      "source": "#\nd=0\nfor i in range(2,51,2):\n    d=i+d\nprint(d)    ",
      "metadata": {
        "trusted": true
      },
      "outputs": [
        {
          "name": "stdout",
          "output_type": "stream",
          "text": "650\n"
        }
      ],
      "execution_count": 63
    },
    {
      "id": "0d82004c-29f2-4cbe-b4c3-7a0804742b90",
      "cell_type": "code",
      "source": "#\nname =\"Abhishek\"\nfor i in name[::-1]:\n    print(i,end=\" \")",
      "metadata": {
        "trusted": true
      },
      "outputs": [
        {
          "name": "stdout",
          "output_type": "stream",
          "text": "k e h s i h b A "
        }
      ],
      "execution_count": 2
    },
    {
      "id": "a71027d0-a434-4b14-bb10-2627a6d4343b",
      "cell_type": "code",
      "source": "",
      "metadata": {
        "trusted": true,
        "tags": [],
        "editable": true,
        "slideshow": {
          "slide_type": ""
        }
      },
      "outputs": [],
      "execution_count": null
    },
    {
      "id": "7e5aa0c3-7004-40f2-95be-cc9e2a6f1456",
      "cell_type": "code",
      "source": "",
      "metadata": {
        "trusted": true
      },
      "outputs": [],
      "execution_count": null
    }
  ]
}