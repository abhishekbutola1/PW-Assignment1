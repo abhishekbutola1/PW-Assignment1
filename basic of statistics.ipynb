{
  "metadata": {
    "kernelspec": {
      "name": "python",
      "display_name": "Python (Pyodide)",
      "language": "python"
    },
    "language_info": {
      "codemirror_mode": {
        "name": "python",
        "version": 3
      },
      "file_extension": ".py",
      "mimetype": "text/x-python",
      "name": "python",
      "nbconvert_exporter": "python",
      "pygments_lexer": "ipython3",
      "version": "3.8"
    }
  },
  "nbformat_minor": 5,
  "nbformat": 4,
  "cells": [
    {
      "id": "61e67e08-54d9-4611-aadc-7859639d97fd",
      "cell_type": "code",
      "source": "# 1.1. Explain the different types of data (qualitative and quantitative) and provide examples of each. Discuss\n# nominal, ordinal, interval, and ratio scales\n\n# Qualitative (Categorical) Data: Non-numerical data representing categories.\n# Nominal: No order (e.g., gender, colors).\n# Ordinal: Ordered but no fixed intervals (e.g., education level, customer satisfaction ratings).\n\n# Quantitative (Numerical) Data: Measurable numbers.\n# Interval: No true zero (e.g., temperature in °C).\n# Ratio: True zero exists (e.g., height, weight).\n\n# Example:\n# Qualitative: Blood type (Nominal), Survey ratings (Ordinal).\n# Quantitative: Temperature (Interval), Salary (Ratio).",
      "metadata": {
        "trusted": true
      },
      "outputs": [],
      "execution_count": null
    },
    {
      "id": "8705f1ac-811f-4ecb-97ba-8b143bed3a40",
      "cell_type": "code",
      "source": "# 2. What are the measures of central tendency, and when should you use each? Discuss the mean, median,and mode with examples and situations where each is appropriate.\n\n# Mean: Average (used for symmetric data, e.g., average income).\n# Median: Middle value (used for skewed data, e.g., house prices).\n# Mode: Most frequent value (used for categorical data, e.g., most common shoe size).\n\n# When to Use:\n# Mean for normally distributed data.\n# Median for outliers/skewness.\n# Mode for categorical or multimodal distributions.",
      "metadata": {
        "trusted": true
      },
      "outputs": [],
      "execution_count": null
    },
    {
      "id": "957afa4c-db8e-471b-84ff-1ed4daccdb69",
      "cell_type": "code",
      "source": "# 3. Explain the concept of dispersion. How do variance and standard deviation measure the spread of data?\n\n# Dispersion: Measures how spread out data is.\n# Variance (σ²): Average squared deviation from mean.\n# Standard Deviation (σ): Square root of variance (in original units).\n\n# Example: Dataset [2,4,6,8]\n# Mean = 5, Variance = 5, Standard Deviation = √5 ≈ 2.24.",
      "metadata": {
        "trusted": true
      },
      "outputs": [],
      "execution_count": null
    },
    {
      "id": "a6bf08ec-f22f-4e6b-b70a-ba61a6269f48",
      "cell_type": "code",
      "source": "# 4. What is a box plot, and what can it tell you about the distribution of data?\n\n# A box plot displays:\n# Quartiles (Q1, Q2, Q3).\n# IQR (Q3 – Q1).\n# Outliers (points beyond 1.5×IQR).\n# Skewness (whisker asymmetry).\n\n# Example: A right-skewed box plot has a longer upper whisker.",
      "metadata": {
        "trusted": true
      },
      "outputs": [],
      "execution_count": null
    },
    {
      "id": "d8752ffd-62d9-4bd5-877d-0061cf25c6ca",
      "cell_type": "code",
      "source": "# 5. Discuss the role of random sampling in making inferences about populations.\n\n# Random sampling ensures every population member has an equal chance of selection, reducing bias and enabling generalizations (e.g., political polls).",
      "metadata": {
        "trusted": true
      },
      "outputs": [],
      "execution_count": null
    },
    {
      "id": "51b6f38e-f066-428b-a15f-203982f7f9cb",
      "cell_type": "code",
      "source": "# 6. Explain the concept of skewness and its types. How does skewness affect the interpretation of data?\n\n# Skewness: Measures asymmetry in data distribution.\n# Positive Skew: Right tail longer (mean > median).\n# Negative Skew: Left tail longer (mean < median).\n\n# Impact: Skewness affects mean reliability; median is better for skewed data",
      "metadata": {
        "trusted": true
      },
      "outputs": [],
      "execution_count": null
    },
    {
      "id": "6b4d2aaa-7b1e-489d-a1b1-cdc179c88eea",
      "cell_type": "code",
      "source": "# 7. What is the interquartile range (IQR), and how is it used to detect outliers?\n\n# IQR = Q3 – Q1 (middle 50% of data).\n# Outlier Detection: Points outside [Q1 – 1.5×IQR, Q3 + 1.5×IQR] are outliers.\n\n# Example: For [1,2,3,4,5,6,7,8,9,10], Q1=3, Q3=8, IQR=5. Outliers are < –4.5 or > 15.5 (none here).",
      "metadata": {
        "trusted": true
      },
      "outputs": [],
      "execution_count": null
    },
    {
      "id": "e8613322-4f9c-4f63-aee0-8276aaf885ae",
      "cell_type": "code",
      "source": "# 8. Discuss the conditions under which the binomial distribution is used\n\n# Used when:\n# Fixed trials (n).\n# Independent trials.\n# Two outcomes (success/failure).\n# Constant success probability (p).\n\n# Example: Flipping a coin 10 times (n=10, p=0.5).",
      "metadata": {
        "trusted": true
      },
      "outputs": [],
      "execution_count": null
    },
    {
      "id": "e7f2b4fd-00cd-4657-9b66-8fdde5ae0132",
      "cell_type": "code",
      "source": "# 9. Explain the properties of the normal distribution and the empirical rule (68-95-99.7 rule).\n\n# Properties: Symmetric, bell-shaped, mean=median=mode.\n\n# Empirical Rule:\n# 68% within ±1σ of mean.\n# 95% within ±2σ.\n# 99.7% within ±3σ.\n\n# Example: IQ scores (μ=100, σ=15 → 95% between 70 and 130).",
      "metadata": {
        "trusted": true
      },
      "outputs": [],
      "execution_count": null
    },
    {
      "id": "bc377f75-f1d4-4fe3-9907-8327cd1cf774",
      "cell_type": "code",
      "source": "# 11. Explain what a random variable is and differentiate between discrete and continuous random variables?\n\n# Discrete: Countable outcomes (e.g., dice rolls).\n# Continuous: Uncountable (e.g., height, time).\n\n# Example:\n# Discrete: Number of students in a class.\n# Continuous: Time to run a marathon.",
      "metadata": {
        "trusted": true
      },
      "outputs": [],
      "execution_count": null
    },
    {
      "id": "b0fdb737-f122-4d2b-ba5e-f1405d9bee6b",
      "cell_type": "code",
      "source": "# 12. Provide an example dataset, calculate both covariance and correlation, and interpret the results.?\n",
      "metadata": {
        "trusted": true
      },
      "outputs": [],
      "execution_count": null
    }
  ]
}