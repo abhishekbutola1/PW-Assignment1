{
  "metadata": {
    "kernelspec": {
      "name": "python",
      "display_name": "Python (Pyodide)",
      "language": "python"
    },
    "language_info": {
      "codemirror_mode": {
        "name": "python",
        "version": 3
      },
      "file_extension": ".py",
      "mimetype": "text/x-python",
      "name": "python",
      "nbconvert_exporter": "python",
      "pygments_lexer": "ipython3",
      "version": "3.8"
    }
  },
  "nbformat_minor": 5,
  "nbformat": 4,
  "cells": [
    {
      "id": "ebbc4f87-ab3a-446c-971b-db4c5cd4de72",
      "cell_type": "code",
      "source": "# THEORETICAL QUESTION",
      "metadata": {
        "trusted": true
      },
      "outputs": [],
      "execution_count": null
    },
    {
      "id": "b5236df1-5595-4054-9a96-5642b281517a",
      "cell_type": "code",
      "source": "# 1. What is the difference between a function and a method in Python?\n# Function: A function is a block of organized, reusable code that performs a specific task. It's independent of any \n# particular class or object. You call a function directly by its name\n\n# Method: A method is a function that is associated with an object (an instance of a class).\n# You call a method using the object's name, a dot, and the method name (e.g., object.method_name()).\n# Methods implicitly receive the object itself as the first argument (often called self).\n\n# Function\ndef greet(name):\n  return f\"Hello, {name}!\"\n\n# Method (part of a class)\nclass Dog:\n  def bark(self):\n    return \"Woof!\"\n\nmy_dog = Dog()\n\nprint(greet(\"Alice\"))  # Calling a function\nprint(my_dog.bark())  # Calling a method",
      "metadata": {
        "trusted": true
      },
      "outputs": [
        {
          "name": "stdout",
          "output_type": "stream",
          "text": "Hello, Alice!\nWoof!\n"
        }
      ],
      "execution_count": 4
    },
    {
      "id": "f996ba67-a6f2-49ca-860e-e89e3cb769d1",
      "cell_type": "code",
      "source": "# 2. Explain the concept of function arguments and parameters in Python.\n\n# Parameters: These are the names used in the function definition to represent the values that will be passed to the function.\n# They act as placeholders.\n\n# Arguments: These are the actual values that you pass to the function when you call it. They are the data that the function \n# will work with.\n\ndef add(x, y):  # x and y are parameters\n  return x + y\n\nresult = add(5, 3)  # 5 and 3 are arguments\nprint(result)  # Output: 8",
      "metadata": {
        "trusted": true
      },
      "outputs": [],
      "execution_count": null
    },
    {
      "id": "d0647578-5c8d-479f-808e-e68ebf8286d7",
      "cell_type": "code",
      "source": "# 3. What are the different ways to define and call a function in Python?\n\n# DEFINIE\ndef my_function(param1, param2):\n  # Function body (code to be executed)\n  return param1+param2\n\n# CALLING\nresult = my_function(2,4)\nprint(result)",
      "metadata": {
        "trusted": true
      },
      "outputs": [
        {
          "name": "stdout",
          "output_type": "stream",
          "text": "6\n"
        }
      ],
      "execution_count": 9
    },
    {
      "id": "29c7de3a-1ca0-4af4-83b0-8d006493ab21",
      "cell_type": "code",
      "source": "# 4. What is the purpose of the `return` statement in a Python function?\n# The return statement is used to exit a function and optionally send a value back to the caller.  If a function doesn't\n# have a return statement, it implicitly returns None.\n\ndef multiply(a, b):\n  return a * b\n\nmultiply(4, 5)  # product will be 20",
      "metadata": {
        "trusted": true
      },
      "outputs": [
        {
          "execution_count": 11,
          "output_type": "execute_result",
          "data": {
            "text/plain": "20"
          },
          "metadata": {}
        }
      ],
      "execution_count": 11
    },
    {
      "id": "a9414fa4-9e34-4518-9fe8-4ee9bba9d284",
      "cell_type": "code",
      "source": "# 5. What are iterators in Python and how do they differ from iterables?\n\n# Iterable: An iterable is an object that can return its elements one at a time. \n# Examples include lists, tuples, strings, and dictionaries. You can use a for loop to iterate over an iterable.\n\n# Iterator: An iterator is an object that produces the next value of a sequence when you ask for it. \n# It has a __next__() method. Iterators raise a StopIteration exception when there are no more values.\n\nmy_list = [1, 2, 3]  # Iterable\nmy_iterator = iter(my_list)  # Iterator\n\nprint(next(my_iterator)) # Output: 1\nprint(next(my_iterator)) # Output: 2\n# ... and so on",
      "metadata": {
        "trusted": true
      },
      "outputs": [
        {
          "name": "stdout",
          "output_type": "stream",
          "text": "1\n2\n"
        }
      ],
      "execution_count": 12
    },
    {
      "id": "743aca33-136f-42c1-98f5-d4215e5bde6b",
      "cell_type": "code",
      "source": "# 6. Explain the concept of generators in Python and how they are defined.\n\n# A generator is a special type of iterator.  It's a function that uses the (yield) keyword to produce a sequence of values one \n# at a time, instead of computing and returning them all at once.  When yield is encountered, the generator's state is saved, \n# and it resumes from where it left off the next time a value is requested.\n\ndef my_generator(n):\n  for i in range(n):\n    yield i\n\ngen = my_generator(5)\n\nprint(next(gen))  # Output: 0\nprint(next(gen))  # Output: 1\n# ... and so on",
      "metadata": {
        "trusted": true
      },
      "outputs": [
        {
          "name": "stdout",
          "output_type": "stream",
          "text": "0\n1\n"
        }
      ],
      "execution_count": 13
    },
    {
      "id": "dd5a0674-bd4d-4beb-a191-b7bd417e035f",
      "cell_type": "code",
      "source": "7. What are the advantages of using generators over regular functions?\n# Memory Efficiency: Generators produce values on demand, so they don't need to store the entire sequence in memory. This is crucial for large datasets.\n# Lazy Evaluation: Values are computed only when needed, which can save time if not all values are used.\n# Simplified Code: Generators can make code more readable and concise, especially when dealing with complex sequences.",
      "metadata": {
        "trusted": true
      },
      "outputs": [],
      "execution_count": null
    },
    {
      "id": "462ea8d5-08dd-41cd-9de5-4cffe6c4192a",
      "cell_type": "code",
      "source": "# 8. What is a lambda function in Python and when is it typically used?\n\n# A lambda function is a small, anonymous function defined using the lambda keyword.  It can have any number of \n# arguments but can only contain a single expression.  Lambda functions are often used when you need a simple function\n\nsquare = lambda x: x * x\nprint(square(5))  # \n\n",
      "metadata": {
        "trusted": true
      },
      "outputs": [
        {
          "name": "stdout",
          "output_type": "stream",
          "text": "25\n"
        }
      ],
      "execution_count": 16
    },
    {
      "id": "d1cc538b-ea2d-476b-aaaf-bad8baa6a2a4",
      "cell_type": "code",
      "source": "# 9. Explain the purpose and usage of the `map()` function in Python.\n\n# The map() function applies a given function to each item of an iterable (like a list) and returns an iterator \n# that yields the results.\n\nnumbers = [1, 2, 3, 4]\nsquared_numbers = list(map(lambda x: x * x, numbers)) # Returns an iterator\nprint(squared_numbers)  # Output: [1, 4, 9, 16] Convert to list to see the results",
      "metadata": {
        "trusted": true
      },
      "outputs": [
        {
          "name": "stdout",
          "output_type": "stream",
          "text": "[1, 4, 9, 16]\n"
        }
      ],
      "execution_count": 19
    },
    {
      "id": "63d0a01e-778d-483a-b447-9f7a594a7191",
      "cell_type": "code",
      "source": "# 10. What is the difference between `map()`, `reduce()`, and `filter()` functions in Python?\n\n# map(): Applies a function to each item of an iterable.\n# reduce(): Applies a function cumulatively to the items of a sequence, reducing it to a single value. (You need to import reduce from the functools module in Python 3: from functools import reduce)\n# filter(): Creates a new iterator with the items of an iterable for which a given function returns True.\n\nfrom functools import reduce\n\nnumbers = [1, 2, 3, 4, 5]\n\n# Map: Square each number\nsquared = list(map(lambda x: x*x, numbers)) \n\n# Filter: Keep only even numbers\nevens = list(filter(lambda x: x % 2 == 0, numbers)) \n\n# Reduce: Multiply all numbers together\nproduct = reduce(lambda x, y: x * y, numbers) \n\nprint(squared)\nprint(evens)\nprint(product)",
      "metadata": {
        "trusted": true
      },
      "outputs": [
        {
          "name": "stdout",
          "output_type": "stream",
          "text": "[1, 4, 9, 16, 25]\n[2, 4]\n120\n"
        }
      ],
      "execution_count": 20
    },
    {
      "id": "1033e645-9516-481e-bfdb-25deecc0999a",
      "cell_type": "code",
      "source": "",
      "metadata": {
        "trusted": true
      },
      "outputs": [],
      "execution_count": null
    },
    {
      "id": "2928f347-b9e1-4ca5-8578-c24019998b19",
      "cell_type": "code",
      "source": "# PRACTICAL QUESTION",
      "metadata": {
        "trusted": true
      },
      "outputs": [],
      "execution_count": 24
    },
    {
      "id": "32bafe8b-3912-467e-94f3-3382b4d013f3",
      "cell_type": "code",
      "source": "# 1. Write a Python function that takes a list of numbers as input and returns the sum of all even numbers in the list.\n\ndef sum_even(a):\n    b=0\n    for i in a:\n        if i%2==0:\n            b+=i\n    return b\n        \n\nsum_even([1,2,4,5,6,7])",
      "metadata": {
        "trusted": true
      },
      "outputs": [
        {
          "execution_count": 1,
          "output_type": "execute_result",
          "data": {
            "text/plain": "12"
          },
          "metadata": {}
        }
      ],
      "execution_count": 1
    },
    {
      "id": "a5c54074-047f-407b-bf60-b24f3a585bb2",
      "cell_type": "code",
      "source": "# 2. Create a Python function that accepts a string and returns the reverse of that string.\n\ndef string_reverse(a):\n    return a[::-1]\n\n\nstring_reverse('abhishke')",
      "metadata": {
        "trusted": true
      },
      "outputs": [
        {
          "execution_count": 8,
          "output_type": "execute_result",
          "data": {
            "text/plain": "'ekhsihba'"
          },
          "metadata": {}
        }
      ],
      "execution_count": 8
    },
    {
      "id": "e8593c15-ed7f-49e3-936f-c5d4ee55aa3b",
      "cell_type": "code",
      "source": "# 3. Implement a Python function that takes a list of integers and returns a new list containing the squares of each number.\n\ndef square(a):\n    l=[]\n    for i in a:\n        a=i**2\n        l.append(a)\n    return l\n   \n    \n\nsquare([2,4,5,6])\n    ",
      "metadata": {
        "trusted": true
      },
      "outputs": [
        {
          "execution_count": 15,
          "output_type": "execute_result",
          "data": {
            "text/plain": "[4, 16, 25, 36]"
          },
          "metadata": {}
        }
      ],
      "execution_count": 15
    },
    {
      "id": "53773743-c69f-49a0-9239-4ae274e4490a",
      "cell_type": "code",
      "source": "# 4. Write a Python function that checks if a given number is prime or not from 1 to 200.\n\ndef check_prime():\n    print(2,\"is a prime no\")\n    for i in range(1,11):\n        if i%2==0:\n            False\n        elif i==1:\n            False\n        elif i/3==3:\n            False\n        else:\n            print(i,\"is prime no\")\n    for i in range(201):\n        \n        if i%2==0 or i%3==0 or i%5==0 or i%7==0:\n            False\n        \n        elif i==1:\n            False\n    \n            \n\n        else:\n            print(i,'is prime no')\n\n\ncheck_prime()\n        \n\n\n",
      "metadata": {
        "trusted": true
      },
      "outputs": [
        {
          "name": "stdout",
          "output_type": "stream",
          "text": "2 is a prime no\n3 is prime no\n5 is prime no\n7 is prime no\n11 is prime no\n13 is prime no\n17 is prime no\n19 is prime no\n23 is prime no\n29 is prime no\n31 is prime no\n37 is prime no\n41 is prime no\n43 is prime no\n47 is prime no\n53 is prime no\n59 is prime no\n61 is prime no\n67 is prime no\n71 is prime no\n73 is prime no\n79 is prime no\n83 is prime no\n89 is prime no\n97 is prime no\n101 is prime no\n103 is prime no\n107 is prime no\n109 is prime no\n113 is prime no\n121 is prime no\n127 is prime no\n131 is prime no\n137 is prime no\n139 is prime no\n143 is prime no\n149 is prime no\n151 is prime no\n157 is prime no\n163 is prime no\n167 is prime no\n169 is prime no\n173 is prime no\n179 is prime no\n181 is prime no\n187 is prime no\n191 is prime no\n193 is prime no\n197 is prime no\n199 is prime no\n"
        }
      ],
      "execution_count": 37
    },
    {
      "id": "972040e1-257c-46f0-aa8c-c1472aaa414e",
      "cell_type": "code",
      "source": "# 5. Create an iterator class in Python that generates the Fibonacci sequence up to a specified number of terms.\n\nclass Fibonacci:\n    \n    def __init__(self,number_of_term):\n        self.number_of_term=number_of_term\n\n    def feb(self):\n        a=0\n        b=1\n        c=[]\n        for i in range(self.number_of_term):\n            c.append(a)\n            a,b=b,a+b\n            \n        return c\na=Fibonacci(10)\na.feb()\n\n        \n        \n\n",
      "metadata": {
        "trusted": true
      },
      "outputs": [
        {
          "execution_count": 47,
          "output_type": "execute_result",
          "data": {
            "text/plain": "[0, 1, 1, 2, 3, 5, 8, 13, 21, 34]"
          },
          "metadata": {}
        }
      ],
      "execution_count": 47
    },
    {
      "id": "72d0c96b-5be2-4fce-9870-650b6523246a",
      "cell_type": "code",
      "source": "# 6. Write a generator function in Python that yields the powers of 2 up to a given exponent\ndef square(n):\n    for i in range(n):\n        yield i**2\n\na=square(5)\nprint(next(a))\nprint(next(a))\nprint(next(a))\nprint(next(a))\nprint(next(a))",
      "metadata": {
        "trusted": true
      },
      "outputs": [
        {
          "name": "stdout",
          "output_type": "stream",
          "text": "0\n1\n4\n9\n16\n"
        }
      ],
      "execution_count": 52
    },
    {
      "id": "11229c94-3df5-401b-92b0-ec1ec5164e85",
      "cell_type": "code",
      "source": "# 7. Implement a generator function that reads a file line by line and yields each line as a string.\n\ndef string_reader(n):\n    a=n.split(\" \")\n    for i in a:\n        yield i\n\n\na=string_reader('My name is abhishke')\nprint(next(a))\nprint(next(a))\nprint(next(a))\n\n    ",
      "metadata": {
        "trusted": true
      },
      "outputs": [
        {
          "name": "stdout",
          "output_type": "stream",
          "text": "My\nname\nis\n"
        }
      ],
      "execution_count": 56
    },
    {
      "id": "d55cc9b1-6640-4566-a22e-3f6f7706a237",
      "cell_type": "code",
      "source": "# 8. Use a lambda function in Python to sort a list of tuples based on the second element of each tuple.\na=[(1,5,4),(6,2,1),(1,1,9)]\na.sort(key=lambda x:x[1])\nprint(a)\n",
      "metadata": {
        "trusted": true
      },
      "outputs": [
        {
          "name": "stdout",
          "output_type": "stream",
          "text": "[(1, 1, 9), (6, 2, 1), (1, 5, 4)]\n"
        }
      ],
      "execution_count": 78
    },
    {
      "id": "13297cf3-0d7b-4763-9e5b-d8376154c6e0",
      "cell_type": "code",
      "source": "# 9. Write a Python program that uses `map()` to convert a list of temperatures from Celsius to Fahrenheit.\ntemp_celsius=[10,20,40]\ntemp_fahrenheit=list(map(lambda x:(x*9/5)+32,temp_celsius))\nprint(temp_fahrenheit)",
      "metadata": {
        "trusted": true
      },
      "outputs": [
        {
          "name": "stdout",
          "output_type": "stream",
          "text": "[50.0, 68.0, 104.0]\n"
        }
      ],
      "execution_count": 79
    },
    {
      "id": "b52573d6-360a-4418-8ba1-86a84af13679",
      "cell_type": "code",
      "source": "# 10. Create a Python program that uses `filter()` to remove all the vowels from a given string.\nmy_string='abhsihek'\nvowels=\"aeiouAEIOU\"\na=list(filter(lambda x:x not in vowels,my_string))\nprint(a)",
      "metadata": {
        "trusted": true
      },
      "outputs": [
        {
          "name": "stdout",
          "output_type": "stream",
          "text": "['b', 'h', 's', 'h', 'k']\n"
        }
      ],
      "execution_count": 83
    },
    {
      "id": "b11af2e4-2f09-4340-aa90-473fdefb3160",
      "cell_type": "code",
      "source": "# 11) Imagine an accounting routine used in a book shop. It works on a list with sublists, which look like this:\n\n\norders = [\n    [34587, \"Learning Python, Mark Lutz\", 4, 40.95],\n    [98762, \"Programming Python, Mark Lutz\", 5, 56.80],\n    [77226, \"Head First Python, Paul Barry\", 3, 32.95],\n    [88112, \"Python Cookbook, David Beazley\", 3, 24.99]\n]\n\na_order_no=[]\nb_amount=[]\nmy_list=[]\nfor i in orders:\n    a_order_no.append(i[0])\n    product=round(i[2])*round(i[3])\n\n    b_amount.append(product)\n    \nb_amount=map(lambda x:x+10 if x<10000 else x,b_amount)   \norder_no=tuple(a_order_no)\namount=tuple(b_amount)\nmy_list.append(order_no)\nmy_list.append(amount)\nprint(my_list)\n\n    \n",
      "metadata": {
        "trusted": true
      },
      "outputs": [
        {
          "name": "stdout",
          "output_type": "stream",
          "text": "[(34587, 98762, 77226, 88112), (174, 295, 109, 85)]\n"
        }
      ],
      "execution_count": 120
    },
    {
      "id": "cb387b5e-9bb1-4488-9981-82be74ee0809",
      "cell_type": "code",
      "source": "",
      "metadata": {
        "trusted": true
      },
      "outputs": [],
      "execution_count": null
    }
  ]
}